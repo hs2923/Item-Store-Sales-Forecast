{
 "cells": [
  {
   "cell_type": "markdown",
   "metadata": {},
   "source": [
    "# Final Project\n",
    "\n",
    "## Henrique Melo\n",
    "\n",
    "### Store Item Demand Forecasting Challenge\n",
    "\n",
    "The challenge is to predict 3 months of sales data, from 10 different stores and 50 different products, using 4 years and 9 months of data. The error is calculated as SMAPE.\n",
    "\n",
    "Link to data: https://www.kaggle.com/c/demand-forecasting-kernels-only"
   ]
  },
  {
   "cell_type": "markdown",
   "metadata": {},
   "source": [
    "The project is divided into the follwing phases:\n",
    "<br> \n",
    "1) Research\n",
    "<br>\n",
    "2) Data Preparation\n",
    "<br>\n",
    "3) Modelling/Analysis\n",
    "<br>\n",
    "4) Visualization\n",
    "\n"
   ]
  },
  {
   "cell_type": "code",
   "execution_count": 70,
   "metadata": {},
   "outputs": [],
   "source": [
    "# Used packages for analysis\n",
    "\n",
    "import pandas as pd\n",
    "import numpy as np\n",
    "import seaborn as sns\n",
    "import statsmodels.formula.api as smf\n",
    "import matplotlib.pyplot as plt"
   ]
  },
  {
   "cell_type": "code",
   "execution_count": 71,
   "metadata": {},
   "outputs": [],
   "source": [
    "# Auxiliar function to calculate error and evaluate analysis\n",
    "\n",
    "def calculate_error(true, predicted):\n",
    "    num = abs(predicted - true)\n",
    "    den = (abs(predicted) + abs(true))/2\n",
    "    smape = sum(num/den) * 100 / len(true)\n",
    "    text = \"The SMAPE error percentage is \" + str(round(smape, 2)) + \"%\"\n",
    "    return smape, text"
   ]
  },
  {
   "cell_type": "markdown",
   "metadata": {},
   "source": [
    "# 1) Research Phase\n",
    "\n",
    "The first step is to Import the Dataset and take a look at it:"
   ]
  },
  {
   "cell_type": "code",
   "execution_count": 72,
   "metadata": {},
   "outputs": [
    {
     "data": {
      "text/html": [
       "<div>\n",
       "<style scoped>\n",
       "    .dataframe tbody tr th:only-of-type {\n",
       "        vertical-align: middle;\n",
       "    }\n",
       "\n",
       "    .dataframe tbody tr th {\n",
       "        vertical-align: top;\n",
       "    }\n",
       "\n",
       "    .dataframe thead th {\n",
       "        text-align: right;\n",
       "    }\n",
       "</style>\n",
       "<table border=\"1\" class=\"dataframe\">\n",
       "  <thead>\n",
       "    <tr style=\"text-align: right;\">\n",
       "      <th></th>\n",
       "      <th>store</th>\n",
       "      <th>item</th>\n",
       "      <th>sales</th>\n",
       "    </tr>\n",
       "    <tr>\n",
       "      <th>date</th>\n",
       "      <th></th>\n",
       "      <th></th>\n",
       "      <th></th>\n",
       "    </tr>\n",
       "  </thead>\n",
       "  <tbody>\n",
       "    <tr>\n",
       "      <th>2013-01-01</th>\n",
       "      <td>1</td>\n",
       "      <td>1</td>\n",
       "      <td>13</td>\n",
       "    </tr>\n",
       "    <tr>\n",
       "      <th>2013-01-02</th>\n",
       "      <td>1</td>\n",
       "      <td>1</td>\n",
       "      <td>11</td>\n",
       "    </tr>\n",
       "    <tr>\n",
       "      <th>2013-01-03</th>\n",
       "      <td>1</td>\n",
       "      <td>1</td>\n",
       "      <td>14</td>\n",
       "    </tr>\n",
       "    <tr>\n",
       "      <th>2013-01-04</th>\n",
       "      <td>1</td>\n",
       "      <td>1</td>\n",
       "      <td>13</td>\n",
       "    </tr>\n",
       "    <tr>\n",
       "      <th>2013-01-05</th>\n",
       "      <td>1</td>\n",
       "      <td>1</td>\n",
       "      <td>10</td>\n",
       "    </tr>\n",
       "    <tr>\n",
       "      <th>2013-01-06</th>\n",
       "      <td>1</td>\n",
       "      <td>1</td>\n",
       "      <td>12</td>\n",
       "    </tr>\n",
       "    <tr>\n",
       "      <th>2013-01-07</th>\n",
       "      <td>1</td>\n",
       "      <td>1</td>\n",
       "      <td>10</td>\n",
       "    </tr>\n",
       "    <tr>\n",
       "      <th>2013-01-08</th>\n",
       "      <td>1</td>\n",
       "      <td>1</td>\n",
       "      <td>9</td>\n",
       "    </tr>\n",
       "  </tbody>\n",
       "</table>\n",
       "</div>"
      ],
      "text/plain": [
       "            store  item  sales\n",
       "date                          \n",
       "2013-01-01      1     1     13\n",
       "2013-01-02      1     1     11\n",
       "2013-01-03      1     1     14\n",
       "2013-01-04      1     1     13\n",
       "2013-01-05      1     1     10\n",
       "2013-01-06      1     1     12\n",
       "2013-01-07      1     1     10\n",
       "2013-01-08      1     1      9"
      ]
     },
     "execution_count": 72,
     "metadata": {},
     "output_type": "execute_result"
    }
   ],
   "source": [
    "# Read csv file\n",
    "MyData = pd.read_csv(\"train.csv\", index_col=0, parse_dates=True)\n",
    "\n",
    "#Divide data into trainning data and test data\n",
    "TrainData = MyData.loc[:\"2017-09-30\",:]\n",
    "TestData = MyData.loc[\"2017-10-01\":,:]\n",
    "\n",
    "TrainData.head(8)"
   ]
  },
  {
   "cell_type": "code",
   "execution_count": 73,
   "metadata": {},
   "outputs": [
    {
     "data": {
      "text/html": [
       "<div>\n",
       "<style scoped>\n",
       "    .dataframe tbody tr th:only-of-type {\n",
       "        vertical-align: middle;\n",
       "    }\n",
       "\n",
       "    .dataframe tbody tr th {\n",
       "        vertical-align: top;\n",
       "    }\n",
       "\n",
       "    .dataframe thead th {\n",
       "        text-align: right;\n",
       "    }\n",
       "</style>\n",
       "<table border=\"1\" class=\"dataframe\">\n",
       "  <thead>\n",
       "    <tr style=\"text-align: right;\">\n",
       "      <th></th>\n",
       "      <th>store</th>\n",
       "      <th>item</th>\n",
       "      <th>sales</th>\n",
       "    </tr>\n",
       "    <tr>\n",
       "      <th>date</th>\n",
       "      <th></th>\n",
       "      <th></th>\n",
       "      <th></th>\n",
       "    </tr>\n",
       "  </thead>\n",
       "  <tbody>\n",
       "    <tr>\n",
       "      <th>2017-09-23</th>\n",
       "      <td>10</td>\n",
       "      <td>50</td>\n",
       "      <td>97</td>\n",
       "    </tr>\n",
       "    <tr>\n",
       "      <th>2017-09-24</th>\n",
       "      <td>10</td>\n",
       "      <td>50</td>\n",
       "      <td>99</td>\n",
       "    </tr>\n",
       "    <tr>\n",
       "      <th>2017-09-25</th>\n",
       "      <td>10</td>\n",
       "      <td>50</td>\n",
       "      <td>63</td>\n",
       "    </tr>\n",
       "    <tr>\n",
       "      <th>2017-09-26</th>\n",
       "      <td>10</td>\n",
       "      <td>50</td>\n",
       "      <td>79</td>\n",
       "    </tr>\n",
       "    <tr>\n",
       "      <th>2017-09-27</th>\n",
       "      <td>10</td>\n",
       "      <td>50</td>\n",
       "      <td>80</td>\n",
       "    </tr>\n",
       "    <tr>\n",
       "      <th>2017-09-28</th>\n",
       "      <td>10</td>\n",
       "      <td>50</td>\n",
       "      <td>82</td>\n",
       "    </tr>\n",
       "    <tr>\n",
       "      <th>2017-09-29</th>\n",
       "      <td>10</td>\n",
       "      <td>50</td>\n",
       "      <td>90</td>\n",
       "    </tr>\n",
       "    <tr>\n",
       "      <th>2017-09-30</th>\n",
       "      <td>10</td>\n",
       "      <td>50</td>\n",
       "      <td>103</td>\n",
       "    </tr>\n",
       "  </tbody>\n",
       "</table>\n",
       "</div>"
      ],
      "text/plain": [
       "            store  item  sales\n",
       "date                          \n",
       "2017-09-23     10    50     97\n",
       "2017-09-24     10    50     99\n",
       "2017-09-25     10    50     63\n",
       "2017-09-26     10    50     79\n",
       "2017-09-27     10    50     80\n",
       "2017-09-28     10    50     82\n",
       "2017-09-29     10    50     90\n",
       "2017-09-30     10    50    103"
      ]
     },
     "execution_count": 73,
     "metadata": {},
     "output_type": "execute_result"
    }
   ],
   "source": [
    "TrainData.tail(8)"
   ]
  },
  {
   "cell_type": "code",
   "execution_count": 74,
   "metadata": {},
   "outputs": [
    {
     "data": {
      "text/html": [
       "<div>\n",
       "<style scoped>\n",
       "    .dataframe tbody tr th:only-of-type {\n",
       "        vertical-align: middle;\n",
       "    }\n",
       "\n",
       "    .dataframe tbody tr th {\n",
       "        vertical-align: top;\n",
       "    }\n",
       "\n",
       "    .dataframe thead th {\n",
       "        text-align: right;\n",
       "    }\n",
       "</style>\n",
       "<table border=\"1\" class=\"dataframe\">\n",
       "  <thead>\n",
       "    <tr style=\"text-align: right;\">\n",
       "      <th></th>\n",
       "      <th>store</th>\n",
       "      <th>item</th>\n",
       "      <th>sales</th>\n",
       "    </tr>\n",
       "    <tr>\n",
       "      <th>date</th>\n",
       "      <th></th>\n",
       "      <th></th>\n",
       "      <th></th>\n",
       "    </tr>\n",
       "  </thead>\n",
       "  <tbody>\n",
       "    <tr>\n",
       "      <th>2017-10-01</th>\n",
       "      <td>1</td>\n",
       "      <td>1</td>\n",
       "      <td>21</td>\n",
       "    </tr>\n",
       "    <tr>\n",
       "      <th>2017-10-02</th>\n",
       "      <td>1</td>\n",
       "      <td>1</td>\n",
       "      <td>12</td>\n",
       "    </tr>\n",
       "    <tr>\n",
       "      <th>2017-10-03</th>\n",
       "      <td>1</td>\n",
       "      <td>1</td>\n",
       "      <td>18</td>\n",
       "    </tr>\n",
       "    <tr>\n",
       "      <th>2017-10-04</th>\n",
       "      <td>1</td>\n",
       "      <td>1</td>\n",
       "      <td>15</td>\n",
       "    </tr>\n",
       "    <tr>\n",
       "      <th>2017-10-05</th>\n",
       "      <td>1</td>\n",
       "      <td>1</td>\n",
       "      <td>20</td>\n",
       "    </tr>\n",
       "    <tr>\n",
       "      <th>2017-10-06</th>\n",
       "      <td>1</td>\n",
       "      <td>1</td>\n",
       "      <td>19</td>\n",
       "    </tr>\n",
       "    <tr>\n",
       "      <th>2017-10-07</th>\n",
       "      <td>1</td>\n",
       "      <td>1</td>\n",
       "      <td>22</td>\n",
       "    </tr>\n",
       "    <tr>\n",
       "      <th>2017-10-08</th>\n",
       "      <td>1</td>\n",
       "      <td>1</td>\n",
       "      <td>19</td>\n",
       "    </tr>\n",
       "  </tbody>\n",
       "</table>\n",
       "</div>"
      ],
      "text/plain": [
       "            store  item  sales\n",
       "date                          \n",
       "2017-10-01      1     1     21\n",
       "2017-10-02      1     1     12\n",
       "2017-10-03      1     1     18\n",
       "2017-10-04      1     1     15\n",
       "2017-10-05      1     1     20\n",
       "2017-10-06      1     1     19\n",
       "2017-10-07      1     1     22\n",
       "2017-10-08      1     1     19"
      ]
     },
     "execution_count": 74,
     "metadata": {},
     "output_type": "execute_result"
    }
   ],
   "source": [
    "TestData.head(8)"
   ]
  },
  {
   "cell_type": "code",
   "execution_count": 75,
   "metadata": {},
   "outputs": [
    {
     "data": {
      "text/plain": [
       "Text(0.5,1,'Average Sales per Store')"
      ]
     },
     "execution_count": 75,
     "metadata": {},
     "output_type": "execute_result"
    },
    {
     "data": {
      "image/png": "[encoded data removed]",
      "text/plain": [
       "<Figure size 432x288 with 1 Axes>"
      ]
     },
     "metadata": {},
     "output_type": "display_data"
    }
   ],
   "source": [
    "group1 = MyData.groupby([\"store\"]).mean()\n",
    "#sns.barplot(x = group1.index, y = group1.sales)\n",
    "sns.barplot(x = group1.index, y = group1.sales).set_title(\"Average Sales per Store\")"
   ]
  },
  {
   "cell_type": "code",
   "execution_count": 76,
   "metadata": {},
   "outputs": [
    {
     "data": {
      "text/plain": [
       "Text(0.5,1,'Average Sales per Item')"
      ]
     },
     "execution_count": 76,
     "metadata": {},
     "output_type": "execute_result"
    },
    {
     "data": {
      "image/png": "[encoded data removed]",
      "text/plain": [
       "<Figure size 432x288 with 1 Axes>"
      ]
     },
     "metadata": {},
     "output_type": "display_data"
    }
   ],
   "source": [
    "group2 = MyData.groupby([\"item\"]).mean()\n",
    "sns.barplot(x = group2.index, y = group2.sales).set_title(\"Average Sales per Item\")"
   ]
  },
  {
   "cell_type": "code",
   "execution_count": 77,
   "metadata": {},
   "outputs": [
    {
     "name": "stderr",
     "output_type": "stream",
     "text": [
      "C:\\Users\\hsabo\\Anaconda3\\lib\\site-packages\\pandas\\core\\indexing.py:1472: FutureWarning: \n",
      "Passing list-likes to .loc or [] with any missing label will raise\n",
      "KeyError in the future, you can use .reindex() as an alternative.\n",
      "\n",
      "See the documentation here:\n",
      "https://pandas.pydata.org/pandas-docs/stable/indexing.html#deprecate-loc-reindex-listlike\n",
      "  return self._getitem_tuple(key)\n"
     ]
    },
    {
     "data": {
      "text/plain": [
       "<matplotlib.axes._subplots.AxesSubplot at 0x1d584be0c18>"
      ]
     },
     "execution_count": 77,
     "metadata": {},
     "output_type": "execute_result"
    },
    {
     "data": {
      "image/png": "[encoded data removed]",
      "text/plain": [
       "<Figure size 432x288 with 1 Axes>"
      ]
     },
     "metadata": {},
     "output_type": "display_data"
    },
    {
     "data": {
      "image/png": "[encoded data removed]",
      "text/plain": [
       "<Figure size 432x288 with 1 Axes>"
      ]
     },
     "metadata": {},
     "output_type": "display_data"
    }
   ],
   "source": [
    "ID1 = TrainData[TrainData.item == 1]\n",
    "ID1.loc[:, [\"date\", \"sales\"]].plot()\n",
    "ID1.loc[\"2013-01-01\":\"2013-02-01\", [\"date\", \"sales\"]].plot()"
   ]
  },
  {
   "cell_type": "markdown",
   "metadata": {},
   "source": [
    "# 2) Data Preparation"
   ]
  },
  {
   "cell_type": "code",
   "execution_count": 78,
   "metadata": {},
   "outputs": [
    {
     "data": {
      "text/plain": [
       "1734"
      ]
     },
     "execution_count": 78,
     "metadata": {},
     "output_type": "execute_result"
    }
   ],
   "source": [
    "# Turn Trainning set dates into ordinal numbers for OLS\n",
    "\n",
    "a = pd.Series(TrainData.index, index = TrainData.index).apply(lambda x: x.toordinal())\n",
    "a = a - min(a)\n",
    "a = a.drop_duplicates(keep = \"first\")\n",
    "a = pd.DataFrame(a)\n",
    "a.columns = [\"datevalue\"]\n",
    "len(a)"
   ]
  },
  {
   "cell_type": "code",
   "execution_count": 79,
   "metadata": {},
   "outputs": [
    {
     "data": {
      "text/plain": [
       "92"
      ]
     },
     "execution_count": 79,
     "metadata": {},
     "output_type": "execute_result"
    }
   ],
   "source": [
    "# Turn Test set dates into ordinal numbers for OLS\n",
    "\n",
    "b = pd.Series(TestData.index, index = TestData.index).apply(lambda x: x.toordinal())\n",
    "b = b - min(b)\n",
    "b = b + max(a.datevalue) + 1\n",
    "b = b.drop_duplicates(keep = \"first\")\n",
    "b = pd.DataFrame(b)\n",
    "b.columns = [\"datevalue\"]\n",
    "len(b)"
   ]
  },
  {
   "cell_type": "code",
   "execution_count": 80,
   "metadata": {},
   "outputs": [
    {
     "data": {
      "text/html": [
       "<div>\n",
       "<style scoped>\n",
       "    .dataframe tbody tr th:only-of-type {\n",
       "        vertical-align: middle;\n",
       "    }\n",
       "\n",
       "    .dataframe tbody tr th {\n",
       "        vertical-align: top;\n",
       "    }\n",
       "\n",
       "    .dataframe thead th {\n",
       "        text-align: right;\n",
       "    }\n",
       "</style>\n",
       "<table border=\"1\" class=\"dataframe\">\n",
       "  <thead>\n",
       "    <tr style=\"text-align: right;\">\n",
       "      <th></th>\n",
       "      <th>datevalue</th>\n",
       "    </tr>\n",
       "    <tr>\n",
       "      <th>date</th>\n",
       "      <th></th>\n",
       "    </tr>\n",
       "  </thead>\n",
       "  <tbody>\n",
       "    <tr>\n",
       "      <th>2017-09-26</th>\n",
       "      <td>1729</td>\n",
       "    </tr>\n",
       "    <tr>\n",
       "      <th>2017-09-27</th>\n",
       "      <td>1730</td>\n",
       "    </tr>\n",
       "    <tr>\n",
       "      <th>2017-09-28</th>\n",
       "      <td>1731</td>\n",
       "    </tr>\n",
       "    <tr>\n",
       "      <th>2017-09-29</th>\n",
       "      <td>1732</td>\n",
       "    </tr>\n",
       "    <tr>\n",
       "      <th>2017-09-30</th>\n",
       "      <td>1733</td>\n",
       "    </tr>\n",
       "  </tbody>\n",
       "</table>\n",
       "</div>"
      ],
      "text/plain": [
       "            datevalue\n",
       "date                 \n",
       "2017-09-26       1729\n",
       "2017-09-27       1730\n",
       "2017-09-28       1731\n",
       "2017-09-29       1732\n",
       "2017-09-30       1733"
      ]
     },
     "execution_count": 80,
     "metadata": {},
     "output_type": "execute_result"
    }
   ],
   "source": [
    "a.tail()"
   ]
  },
  {
   "cell_type": "code",
   "execution_count": 81,
   "metadata": {},
   "outputs": [
    {
     "data": {
      "text/html": [
       "<div>\n",
       "<style scoped>\n",
       "    .dataframe tbody tr th:only-of-type {\n",
       "        vertical-align: middle;\n",
       "    }\n",
       "\n",
       "    .dataframe tbody tr th {\n",
       "        vertical-align: top;\n",
       "    }\n",
       "\n",
       "    .dataframe thead th {\n",
       "        text-align: right;\n",
       "    }\n",
       "</style>\n",
       "<table border=\"1\" class=\"dataframe\">\n",
       "  <thead>\n",
       "    <tr style=\"text-align: right;\">\n",
       "      <th></th>\n",
       "      <th>datevalue</th>\n",
       "    </tr>\n",
       "    <tr>\n",
       "      <th>date</th>\n",
       "      <th></th>\n",
       "    </tr>\n",
       "  </thead>\n",
       "  <tbody>\n",
       "    <tr>\n",
       "      <th>2017-10-01</th>\n",
       "      <td>1734</td>\n",
       "    </tr>\n",
       "    <tr>\n",
       "      <th>2017-10-02</th>\n",
       "      <td>1735</td>\n",
       "    </tr>\n",
       "    <tr>\n",
       "      <th>2017-10-03</th>\n",
       "      <td>1736</td>\n",
       "    </tr>\n",
       "    <tr>\n",
       "      <th>2017-10-04</th>\n",
       "      <td>1737</td>\n",
       "    </tr>\n",
       "    <tr>\n",
       "      <th>2017-10-05</th>\n",
       "      <td>1738</td>\n",
       "    </tr>\n",
       "  </tbody>\n",
       "</table>\n",
       "</div>"
      ],
      "text/plain": [
       "            datevalue\n",
       "date                 \n",
       "2017-10-01       1734\n",
       "2017-10-02       1735\n",
       "2017-10-03       1736\n",
       "2017-10-04       1737\n",
       "2017-10-05       1738"
      ]
     },
     "execution_count": 81,
     "metadata": {},
     "output_type": "execute_result"
    }
   ],
   "source": [
    "b.head()"
   ]
  },
  {
   "cell_type": "code",
   "execution_count": 82,
   "metadata": {},
   "outputs": [],
   "source": [
    "#Merge original table with ordial values\n",
    "\n",
    "TD2 = TrainData.copy()\n",
    "TE2 = TestData.copy()\n",
    "\n",
    "TD2 = TD2.merge(a, right_index=True, left_index=True)\n",
    "TE2 = TE2.merge(b, right_index=True, left_index=True)"
   ]
  },
  {
   "cell_type": "code",
   "execution_count": 83,
   "metadata": {},
   "outputs": [
    {
     "data": {
      "text/html": [
       "<div>\n",
       "<style scoped>\n",
       "    .dataframe tbody tr th:only-of-type {\n",
       "        vertical-align: middle;\n",
       "    }\n",
       "\n",
       "    .dataframe tbody tr th {\n",
       "        vertical-align: top;\n",
       "    }\n",
       "\n",
       "    .dataframe thead th {\n",
       "        text-align: right;\n",
       "    }\n",
       "</style>\n",
       "<table border=\"1\" class=\"dataframe\">\n",
       "  <thead>\n",
       "    <tr style=\"text-align: right;\">\n",
       "      <th></th>\n",
       "      <th>store</th>\n",
       "      <th>item</th>\n",
       "      <th>sales</th>\n",
       "      <th>datevalue</th>\n",
       "    </tr>\n",
       "    <tr>\n",
       "      <th>date</th>\n",
       "      <th></th>\n",
       "      <th></th>\n",
       "      <th></th>\n",
       "      <th></th>\n",
       "    </tr>\n",
       "  </thead>\n",
       "  <tbody>\n",
       "    <tr>\n",
       "      <th>2013-01-01</th>\n",
       "      <td>1</td>\n",
       "      <td>1</td>\n",
       "      <td>13</td>\n",
       "      <td>0</td>\n",
       "    </tr>\n",
       "    <tr>\n",
       "      <th>2013-01-01</th>\n",
       "      <td>2</td>\n",
       "      <td>1</td>\n",
       "      <td>12</td>\n",
       "      <td>0</td>\n",
       "    </tr>\n",
       "    <tr>\n",
       "      <th>2013-01-01</th>\n",
       "      <td>3</td>\n",
       "      <td>1</td>\n",
       "      <td>19</td>\n",
       "      <td>0</td>\n",
       "    </tr>\n",
       "    <tr>\n",
       "      <th>2013-01-01</th>\n",
       "      <td>4</td>\n",
       "      <td>1</td>\n",
       "      <td>10</td>\n",
       "      <td>0</td>\n",
       "    </tr>\n",
       "    <tr>\n",
       "      <th>2013-01-01</th>\n",
       "      <td>5</td>\n",
       "      <td>1</td>\n",
       "      <td>11</td>\n",
       "      <td>0</td>\n",
       "    </tr>\n",
       "    <tr>\n",
       "      <th>2013-01-01</th>\n",
       "      <td>6</td>\n",
       "      <td>1</td>\n",
       "      <td>20</td>\n",
       "      <td>0</td>\n",
       "    </tr>\n",
       "    <tr>\n",
       "      <th>2013-01-01</th>\n",
       "      <td>7</td>\n",
       "      <td>1</td>\n",
       "      <td>7</td>\n",
       "      <td>0</td>\n",
       "    </tr>\n",
       "    <tr>\n",
       "      <th>2013-01-01</th>\n",
       "      <td>8</td>\n",
       "      <td>1</td>\n",
       "      <td>16</td>\n",
       "      <td>0</td>\n",
       "    </tr>\n",
       "    <tr>\n",
       "      <th>2013-01-01</th>\n",
       "      <td>9</td>\n",
       "      <td>1</td>\n",
       "      <td>11</td>\n",
       "      <td>0</td>\n",
       "    </tr>\n",
       "    <tr>\n",
       "      <th>2013-01-01</th>\n",
       "      <td>10</td>\n",
       "      <td>1</td>\n",
       "      <td>14</td>\n",
       "      <td>0</td>\n",
       "    </tr>\n",
       "    <tr>\n",
       "      <th>2013-01-01</th>\n",
       "      <td>1</td>\n",
       "      <td>2</td>\n",
       "      <td>33</td>\n",
       "      <td>0</td>\n",
       "    </tr>\n",
       "    <tr>\n",
       "      <th>2013-01-01</th>\n",
       "      <td>2</td>\n",
       "      <td>2</td>\n",
       "      <td>41</td>\n",
       "      <td>0</td>\n",
       "    </tr>\n",
       "  </tbody>\n",
       "</table>\n",
       "</div>"
      ],
      "text/plain": [
       "            store  item  sales  datevalue\n",
       "date                                     \n",
       "2013-01-01      1     1     13          0\n",
       "2013-01-01      2     1     12          0\n",
       "2013-01-01      3     1     19          0\n",
       "2013-01-01      4     1     10          0\n",
       "2013-01-01      5     1     11          0\n",
       "2013-01-01      6     1     20          0\n",
       "2013-01-01      7     1      7          0\n",
       "2013-01-01      8     1     16          0\n",
       "2013-01-01      9     1     11          0\n",
       "2013-01-01     10     1     14          0\n",
       "2013-01-01      1     2     33          0\n",
       "2013-01-01      2     2     41          0"
      ]
     },
     "execution_count": 83,
     "metadata": {},
     "output_type": "execute_result"
    }
   ],
   "source": [
    "TD2.head(12)"
   ]
  },
  {
   "cell_type": "code",
   "execution_count": 84,
   "metadata": {},
   "outputs": [
    {
     "data": {
      "text/html": [
       "<div>\n",
       "<style scoped>\n",
       "    .dataframe tbody tr th:only-of-type {\n",
       "        vertical-align: middle;\n",
       "    }\n",
       "\n",
       "    .dataframe tbody tr th {\n",
       "        vertical-align: top;\n",
       "    }\n",
       "\n",
       "    .dataframe thead th {\n",
       "        text-align: right;\n",
       "    }\n",
       "</style>\n",
       "<table border=\"1\" class=\"dataframe\">\n",
       "  <thead>\n",
       "    <tr style=\"text-align: right;\">\n",
       "      <th></th>\n",
       "      <th>store</th>\n",
       "      <th>item</th>\n",
       "      <th>sales</th>\n",
       "      <th>datevalue</th>\n",
       "    </tr>\n",
       "    <tr>\n",
       "      <th>date</th>\n",
       "      <th></th>\n",
       "      <th></th>\n",
       "      <th></th>\n",
       "      <th></th>\n",
       "    </tr>\n",
       "  </thead>\n",
       "  <tbody>\n",
       "    <tr>\n",
       "      <th>2017-10-01</th>\n",
       "      <td>1</td>\n",
       "      <td>1</td>\n",
       "      <td>21</td>\n",
       "      <td>1734</td>\n",
       "    </tr>\n",
       "    <tr>\n",
       "      <th>2017-10-01</th>\n",
       "      <td>2</td>\n",
       "      <td>1</td>\n",
       "      <td>42</td>\n",
       "      <td>1734</td>\n",
       "    </tr>\n",
       "    <tr>\n",
       "      <th>2017-10-01</th>\n",
       "      <td>3</td>\n",
       "      <td>1</td>\n",
       "      <td>42</td>\n",
       "      <td>1734</td>\n",
       "    </tr>\n",
       "    <tr>\n",
       "      <th>2017-10-01</th>\n",
       "      <td>4</td>\n",
       "      <td>1</td>\n",
       "      <td>32</td>\n",
       "      <td>1734</td>\n",
       "    </tr>\n",
       "    <tr>\n",
       "      <th>2017-10-01</th>\n",
       "      <td>5</td>\n",
       "      <td>1</td>\n",
       "      <td>17</td>\n",
       "      <td>1734</td>\n",
       "    </tr>\n",
       "    <tr>\n",
       "      <th>2017-10-01</th>\n",
       "      <td>6</td>\n",
       "      <td>1</td>\n",
       "      <td>21</td>\n",
       "      <td>1734</td>\n",
       "    </tr>\n",
       "    <tr>\n",
       "      <th>2017-10-01</th>\n",
       "      <td>7</td>\n",
       "      <td>1</td>\n",
       "      <td>23</td>\n",
       "      <td>1734</td>\n",
       "    </tr>\n",
       "    <tr>\n",
       "      <th>2017-10-01</th>\n",
       "      <td>8</td>\n",
       "      <td>1</td>\n",
       "      <td>40</td>\n",
       "      <td>1734</td>\n",
       "    </tr>\n",
       "    <tr>\n",
       "      <th>2017-10-01</th>\n",
       "      <td>9</td>\n",
       "      <td>1</td>\n",
       "      <td>28</td>\n",
       "      <td>1734</td>\n",
       "    </tr>\n",
       "    <tr>\n",
       "      <th>2017-10-01</th>\n",
       "      <td>10</td>\n",
       "      <td>1</td>\n",
       "      <td>34</td>\n",
       "      <td>1734</td>\n",
       "    </tr>\n",
       "    <tr>\n",
       "      <th>2017-10-01</th>\n",
       "      <td>1</td>\n",
       "      <td>2</td>\n",
       "      <td>60</td>\n",
       "      <td>1734</td>\n",
       "    </tr>\n",
       "    <tr>\n",
       "      <th>2017-10-01</th>\n",
       "      <td>2</td>\n",
       "      <td>2</td>\n",
       "      <td>124</td>\n",
       "      <td>1734</td>\n",
       "    </tr>\n",
       "  </tbody>\n",
       "</table>\n",
       "</div>"
      ],
      "text/plain": [
       "            store  item  sales  datevalue\n",
       "date                                     \n",
       "2017-10-01      1     1     21       1734\n",
       "2017-10-01      2     1     42       1734\n",
       "2017-10-01      3     1     42       1734\n",
       "2017-10-01      4     1     32       1734\n",
       "2017-10-01      5     1     17       1734\n",
       "2017-10-01      6     1     21       1734\n",
       "2017-10-01      7     1     23       1734\n",
       "2017-10-01      8     1     40       1734\n",
       "2017-10-01      9     1     28       1734\n",
       "2017-10-01     10     1     34       1734\n",
       "2017-10-01      1     2     60       1734\n",
       "2017-10-01      2     2    124       1734"
      ]
     },
     "execution_count": 84,
     "metadata": {},
     "output_type": "execute_result"
    }
   ],
   "source": [
    "TE2.head(12)"
   ]
  },
  {
   "cell_type": "code",
   "execution_count": 85,
   "metadata": {},
   "outputs": [],
   "source": [
    "TD2[\"item\"] = TD2[\"item\"].astype(\"category\")\n",
    "TD2[\"store\"] = TD2[\"store\"].astype(\"category\")\n",
    "\n",
    "TE2[\"item\"] = TE2[\"item\"].astype(\"category\")\n",
    "TE2[\"store\"] = TE2[\"store\"].astype(\"category\")"
   ]
  },
  {
   "cell_type": "markdown",
   "metadata": {},
   "source": [
    "# 3) Modelling Analysis"
   ]
  },
  {
   "cell_type": "markdown",
   "metadata": {},
   "source": [
    "## First model: simple regression over aggregated data"
   ]
  },
  {
   "cell_type": "code",
   "execution_count": 86,
   "metadata": {},
   "outputs": [],
   "source": [
    "# Regression Model using only date, item and store\n",
    "\n",
    "model_1 = smf.ols(data = TD2, formula = \"sales ~ datevalue + item + store\")\n",
    "\n",
    "result_1 = model_1.fit()"
   ]
  },
  {
   "cell_type": "code",
   "execution_count": 87,
   "metadata": {},
   "outputs": [
    {
     "data": {
      "text/html": [
       "<table class=\"simpletable\">\n",
       "<caption>OLS Regression Results</caption>\n",
       "<tr>\n",
       "  <th>Dep. Variable:</th>          <td>sales</td>      <th>  R-squared:         </th>  <td>   0.715</td>  \n",
       "</tr>\n",
       "<tr>\n",
       "  <th>Model:</th>                   <td>OLS</td>       <th>  Adj. R-squared:    </th>  <td>   0.715</td>  \n",
       "</tr>\n",
       "<tr>\n",
       "  <th>Method:</th>             <td>Least Squares</td>  <th>  F-statistic:       </th>  <td>3.691e+04</td> \n",
       "</tr>\n",
       "<tr>\n",
       "  <th>Date:</th>             <td>Mon, 26 Nov 2018</td> <th>  Prob (F-statistic):</th>   <td>  0.00</td>   \n",
       "</tr>\n",
       "<tr>\n",
       "  <th>Time:</th>                 <td>16:43:05</td>     <th>  Log-Likelihood:    </th> <td>-3.5995e+06</td>\n",
       "</tr>\n",
       "<tr>\n",
       "  <th>No. Observations:</th>      <td>867000</td>      <th>  AIC:               </th>  <td>7.199e+06</td> \n",
       "</tr>\n",
       "<tr>\n",
       "  <th>Df Residuals:</th>          <td>866940</td>      <th>  BIC:               </th>  <td>7.200e+06</td> \n",
       "</tr>\n",
       "<tr>\n",
       "  <th>Df Model:</th>              <td>    59</td>      <th>                     </th>      <td> </td>     \n",
       "</tr>\n",
       "<tr>\n",
       "  <th>Covariance Type:</th>      <td>nonrobust</td>    <th>                     </th>      <td> </td>     \n",
       "</tr>\n",
       "</table>\n",
       "<table class=\"simpletable\">\n",
       "<tr>\n",
       "       <td></td>          <th>coef</th>     <th>std err</th>      <th>t</th>      <th>P>|t|</th>  <th>[0.025</th>    <th>0.975]</th>  \n",
       "</tr>\n",
       "<tr>\n",
       "  <th>Intercept</th>   <td>    6.5075</td> <td>    0.130</td> <td>   50.051</td> <td> 0.000</td> <td>    6.253</td> <td>    6.762</td>\n",
       "</tr>\n",
       "<tr>\n",
       "  <th>item[T.2]</th>   <td>   36.5106</td> <td>    0.165</td> <td>  221.104</td> <td> 0.000</td> <td>   36.187</td> <td>   36.834</td>\n",
       "</tr>\n",
       "<tr>\n",
       "  <th>item[T.3]</th>   <td>   14.6079</td> <td>    0.165</td> <td>   88.464</td> <td> 0.000</td> <td>   14.284</td> <td>   14.932</td>\n",
       "</tr>\n",
       "<tr>\n",
       "  <th>item[T.4]</th>   <td>    0.0286</td> <td>    0.165</td> <td>    0.173</td> <td> 0.862</td> <td>   -0.295</td> <td>    0.352</td>\n",
       "</tr>\n",
       "<tr>\n",
       "  <th>item[T.5]</th>   <td>   -3.6229</td> <td>    0.165</td> <td>  -21.940</td> <td> 0.000</td> <td>   -3.947</td> <td>   -3.299</td>\n",
       "</tr>\n",
       "<tr>\n",
       "  <th>item[T.6]</th>   <td>   36.4446</td> <td>    0.165</td> <td>  220.704</td> <td> 0.000</td> <td>   36.121</td> <td>   36.768</td>\n",
       "</tr>\n",
       "<tr>\n",
       "  <th>item[T.7]</th>   <td>   36.4556</td> <td>    0.165</td> <td>  220.771</td> <td> 0.000</td> <td>   36.132</td> <td>   36.779</td>\n",
       "</tr>\n",
       "<tr>\n",
       "  <th>item[T.8]</th>   <td>   54.8046</td> <td>    0.165</td> <td>  331.890</td> <td> 0.000</td> <td>   54.481</td> <td>   55.128</td>\n",
       "</tr>\n",
       "<tr>\n",
       "  <th>item[T.9]</th>   <td>   29.3615</td> <td>    0.165</td> <td>  177.810</td> <td> 0.000</td> <td>   29.038</td> <td>   29.685</td>\n",
       "</tr>\n",
       "<tr>\n",
       "  <th>item[T.10]</th>  <td>   51.1067</td> <td>    0.165</td> <td>  309.496</td> <td> 0.000</td> <td>   50.783</td> <td>   51.430</td>\n",
       "</tr>\n",
       "<tr>\n",
       "  <th>item[T.11]</th>  <td>   47.5085</td> <td>    0.165</td> <td>  287.706</td> <td> 0.000</td> <td>   47.185</td> <td>   47.832</td>\n",
       "</tr>\n",
       "<tr>\n",
       "  <th>item[T.12]</th>  <td>   47.5400</td> <td>    0.165</td> <td>  287.897</td> <td> 0.000</td> <td>   47.216</td> <td>   47.864</td>\n",
       "</tr>\n",
       "<tr>\n",
       "  <th>item[T.13]</th>  <td>   62.1903</td> <td>    0.165</td> <td>  376.617</td> <td> 0.000</td> <td>   61.867</td> <td>   62.514</td>\n",
       "</tr>\n",
       "<tr>\n",
       "  <th>item[T.14]</th>  <td>   36.5878</td> <td>    0.165</td> <td>  221.572</td> <td> 0.000</td> <td>   36.264</td> <td>   36.911</td>\n",
       "</tr>\n",
       "<tr>\n",
       "  <th>item[T.15]</th>  <td>   65.8734</td> <td>    0.165</td> <td>  398.921</td> <td> 0.000</td> <td>   65.550</td> <td>   66.197</td>\n",
       "</tr>\n",
       "<tr>\n",
       "  <th>item[T.16]</th>  <td>    3.6753</td> <td>    0.165</td> <td>   22.257</td> <td> 0.000</td> <td>    3.352</td> <td>    3.999</td>\n",
       "</tr>\n",
       "<tr>\n",
       "  <th>item[T.17]</th>  <td>   10.9964</td> <td>    0.165</td> <td>   66.593</td> <td> 0.000</td> <td>   10.673</td> <td>   11.320</td>\n",
       "</tr>\n",
       "<tr>\n",
       "  <th>item[T.18]</th>  <td>   62.1405</td> <td>    0.165</td> <td>  376.315</td> <td> 0.000</td> <td>   61.817</td> <td>   62.464</td>\n",
       "</tr>\n",
       "<tr>\n",
       "  <th>item[T.19]</th>  <td>   18.3308</td> <td>    0.165</td> <td>  111.009</td> <td> 0.000</td> <td>   18.007</td> <td>   18.654</td>\n",
       "</tr>\n",
       "<tr>\n",
       "  <th>item[T.20]</th>  <td>   25.4657</td> <td>    0.165</td> <td>  154.218</td> <td> 0.000</td> <td>   25.142</td> <td>   25.789</td>\n",
       "</tr>\n",
       "<tr>\n",
       "  <th>item[T.21]</th>  <td>   18.2876</td> <td>    0.165</td> <td>  110.748</td> <td> 0.000</td> <td>   17.964</td> <td>   18.611</td>\n",
       "</tr>\n",
       "<tr>\n",
       "  <th>item[T.22]</th>  <td>   58.3719</td> <td>    0.165</td> <td>  353.493</td> <td> 0.000</td> <td>   58.048</td> <td>   58.696</td>\n",
       "</tr>\n",
       "<tr>\n",
       "  <th>item[T.23]</th>  <td>    7.2867</td> <td>    0.165</td> <td>   44.128</td> <td> 0.000</td> <td>    6.963</td> <td>    7.610</td>\n",
       "</tr>\n",
       "<tr>\n",
       "  <th>item[T.24]</th>  <td>   43.9546</td> <td>    0.165</td> <td>  266.184</td> <td> 0.000</td> <td>   43.631</td> <td>   44.278</td>\n",
       "</tr>\n",
       "<tr>\n",
       "  <th>item[T.25]</th>  <td>   58.5685</td> <td>    0.165</td> <td>  354.684</td> <td> 0.000</td> <td>   58.245</td> <td>   58.892</td>\n",
       "</tr>\n",
       "<tr>\n",
       "  <th>item[T.26]</th>  <td>   25.6007</td> <td>    0.165</td> <td>  155.035</td> <td> 0.000</td> <td>   25.277</td> <td>   25.924</td>\n",
       "</tr>\n",
       "<tr>\n",
       "  <th>item[T.27]</th>  <td>    0.0796</td> <td>    0.165</td> <td>    0.482</td> <td> 0.630</td> <td>   -0.244</td> <td>    0.403</td>\n",
       "</tr>\n",
       "<tr>\n",
       "  <th>item[T.28]</th>  <td>   65.7250</td> <td>    0.165</td> <td>  398.023</td> <td> 0.000</td> <td>   65.401</td> <td>   66.049</td>\n",
       "</tr>\n",
       "<tr>\n",
       "  <th>item[T.29]</th>  <td>   47.5217</td> <td>    0.165</td> <td>  287.786</td> <td> 0.000</td> <td>   47.198</td> <td>   47.845</td>\n",
       "</tr>\n",
       "<tr>\n",
       "  <th>item[T.30]</th>  <td>   18.3263</td> <td>    0.165</td> <td>  110.982</td> <td> 0.000</td> <td>   18.003</td> <td>   18.650</td>\n",
       "</tr>\n",
       "<tr>\n",
       "  <th>item[T.31]</th>  <td>   36.5745</td> <td>    0.165</td> <td>  221.491</td> <td> 0.000</td> <td>   36.251</td> <td>   36.898</td>\n",
       "</tr>\n",
       "<tr>\n",
       "  <th>item[T.32]</th>  <td>   21.9264</td> <td>    0.165</td> <td>  132.784</td> <td> 0.000</td> <td>   21.603</td> <td>   22.250</td>\n",
       "</tr>\n",
       "<tr>\n",
       "  <th>item[T.33]</th>  <td>   47.4829</td> <td>    0.165</td> <td>  287.551</td> <td> 0.000</td> <td>   47.159</td> <td>   47.807</td>\n",
       "</tr>\n",
       "<tr>\n",
       "  <th>item[T.34]</th>  <td>    3.7349</td> <td>    0.165</td> <td>   22.618</td> <td> 0.000</td> <td>    3.411</td> <td>    4.059</td>\n",
       "</tr>\n",
       "<tr>\n",
       "  <th>item[T.35]</th>  <td>   43.7145</td> <td>    0.165</td> <td>  264.730</td> <td> 0.000</td> <td>   43.391</td> <td>   44.038</td>\n",
       "</tr>\n",
       "<tr>\n",
       "  <th>item[T.36]</th>  <td>   54.8906</td> <td>    0.165</td> <td>  332.411</td> <td> 0.000</td> <td>   54.567</td> <td>   55.214</td>\n",
       "</tr>\n",
       "<tr>\n",
       "  <th>item[T.37]</th>  <td>    7.2517</td> <td>    0.165</td> <td>   43.915</td> <td> 0.000</td> <td>    6.928</td> <td>    7.575</td>\n",
       "</tr>\n",
       "<tr>\n",
       "  <th>item[T.38]</th>  <td>   58.3591</td> <td>    0.165</td> <td>  353.416</td> <td> 0.000</td> <td>   58.035</td> <td>   58.683</td>\n",
       "</tr>\n",
       "<tr>\n",
       "  <th>item[T.39]</th>  <td>   21.8348</td> <td>    0.165</td> <td>  132.229</td> <td> 0.000</td> <td>   21.511</td> <td>   22.158</td>\n",
       "</tr>\n",
       "<tr>\n",
       "  <th>item[T.40]</th>  <td>    7.2393</td> <td>    0.165</td> <td>   43.841</td> <td> 0.000</td> <td>    6.916</td> <td>    7.563</td>\n",
       "</tr>\n",
       "<tr>\n",
       "  <th>item[T.41]</th>  <td>    0.0296</td> <td>    0.165</td> <td>    0.180</td> <td> 0.858</td> <td>   -0.294</td> <td>    0.353</td>\n",
       "</tr>\n",
       "<tr>\n",
       "  <th>item[T.42]</th>  <td>   14.6773</td> <td>    0.165</td> <td>   88.884</td> <td> 0.000</td> <td>   14.354</td> <td>   15.001</td>\n",
       "</tr>\n",
       "<tr>\n",
       "  <th>item[T.43]</th>  <td>   29.2209</td> <td>    0.165</td> <td>  176.958</td> <td> 0.000</td> <td>   28.897</td> <td>   29.545</td>\n",
       "</tr>\n",
       "<tr>\n",
       "  <th>item[T.44]</th>  <td>    7.3895</td> <td>    0.165</td> <td>   44.750</td> <td> 0.000</td> <td>    7.066</td> <td>    7.713</td>\n",
       "</tr>\n",
       "<tr>\n",
       "  <th>item[T.45]</th>  <td>   58.4681</td> <td>    0.165</td> <td>  354.076</td> <td> 0.000</td> <td>   58.144</td> <td>   58.792</td>\n",
       "</tr>\n",
       "<tr>\n",
       "  <th>item[T.46]</th>  <td>   36.5456</td> <td>    0.165</td> <td>  221.316</td> <td> 0.000</td> <td>   36.222</td> <td>   36.869</td>\n",
       "</tr>\n",
       "<tr>\n",
       "  <th>item[T.47]</th>  <td>    0.0213</td> <td>    0.165</td> <td>    0.129</td> <td> 0.897</td> <td>   -0.302</td> <td>    0.345</td>\n",
       "</tr>\n",
       "<tr>\n",
       "  <th>item[T.48]</th>  <td>   29.2808</td> <td>    0.165</td> <td>  177.321</td> <td> 0.000</td> <td>   28.957</td> <td>   29.604</td>\n",
       "</tr>\n",
       "<tr>\n",
       "  <th>item[T.49]</th>  <td>    7.3501</td> <td>    0.165</td> <td>   44.511</td> <td> 0.000</td> <td>    7.026</td> <td>    7.674</td>\n",
       "</tr>\n",
       "<tr>\n",
       "  <th>item[T.50]</th>  <td>   43.8181</td> <td>    0.165</td> <td>  265.357</td> <td> 0.000</td> <td>   43.494</td> <td>   44.142</td>\n",
       "</tr>\n",
       "<tr>\n",
       "  <th>store[T.2]</th>  <td>   19.7152</td> <td>    0.074</td> <td>  266.971</td> <td> 0.000</td> <td>   19.570</td> <td>   19.860</td>\n",
       "</tr>\n",
       "<tr>\n",
       "  <th>store[T.3]</th>  <td>   12.2395</td> <td>    0.074</td> <td>  165.740</td> <td> 0.000</td> <td>   12.095</td> <td>   12.384</td>\n",
       "</tr>\n",
       "<tr>\n",
       "  <th>store[T.4]</th>  <td>    7.6248</td> <td>    0.074</td> <td>  103.250</td> <td> 0.000</td> <td>    7.480</td> <td>    7.770</td>\n",
       "</tr>\n",
       "<tr>\n",
       "  <th>store[T.5]</th>  <td>   -7.4691</td> <td>    0.074</td> <td> -101.142</td> <td> 0.000</td> <td>   -7.614</td> <td>   -7.324</td>\n",
       "</tr>\n",
       "<tr>\n",
       "  <th>store[T.6]</th>  <td>   -7.5093</td> <td>    0.074</td> <td> -101.685</td> <td> 0.000</td> <td>   -7.654</td> <td>   -7.365</td>\n",
       "</tr>\n",
       "<tr>\n",
       "  <th>store[T.7]</th>  <td>  -10.8729</td> <td>    0.074</td> <td> -147.234</td> <td> 0.000</td> <td>  -11.018</td> <td>  -10.728</td>\n",
       "</tr>\n",
       "<tr>\n",
       "  <th>store[T.8]</th>  <td>   16.8263</td> <td>    0.074</td> <td>  227.852</td> <td> 0.000</td> <td>   16.682</td> <td>   16.971</td>\n",
       "</tr>\n",
       "<tr>\n",
       "  <th>store[T.9]</th>  <td>    7.7636</td> <td>    0.074</td> <td>  105.129</td> <td> 0.000</td> <td>    7.619</td> <td>    7.908</td>\n",
       "</tr>\n",
       "<tr>\n",
       "  <th>store[T.10]</th> <td>   11.4290</td> <td>    0.074</td> <td>  154.765</td> <td> 0.000</td> <td>   11.284</td> <td>   11.574</td>\n",
       "</tr>\n",
       "<tr>\n",
       "  <th>datevalue</th>   <td>    0.0121</td> <td>  3.3e-05</td> <td>  365.529</td> <td> 0.000</td> <td>    0.012</td> <td>    0.012</td>\n",
       "</tr>\n",
       "</table>\n",
       "<table class=\"simpletable\">\n",
       "<tr>\n",
       "  <th>Omnibus:</th>       <td>45473.632</td> <th>  Durbin-Watson:     </th> <td>   0.634</td> \n",
       "</tr>\n",
       "<tr>\n",
       "  <th>Prob(Omnibus):</th>  <td> 0.000</td>   <th>  Jarque-Bera (JB):  </th> <td>77088.452</td>\n",
       "</tr>\n",
       "<tr>\n",
       "  <th>Skew:</th>           <td> 0.429</td>   <th>  Prob(JB):          </th> <td>    0.00</td> \n",
       "</tr>\n",
       "<tr>\n",
       "  <th>Kurtosis:</th>       <td> 4.182</td>   <th>  Cond. No.          </th> <td>5.05e+04</td> \n",
       "</tr>\n",
       "</table><br/><br/>Warnings:<br/>[1] Standard Errors assume that the covariance matrix of the errors is correctly specified.<br/>[2] The condition number is large, 5.05e+04. This might indicate that there are<br/>strong multicollinearity or other numerical problems."
      ],
      "text/plain": [
       "<class 'statsmodels.iolib.summary.Summary'>\n",
       "\"\"\"\n",
       "                            OLS Regression Results                            \n",
       "==============================================================================\n",
       "Dep. Variable:                  sales   R-squared:                       0.715\n",
       "Model:                            OLS   Adj. R-squared:                  0.715\n",
       "Method:                 Least Squares   F-statistic:                 3.691e+04\n",
       "Date:                Mon, 26 Nov 2018   Prob (F-statistic):               0.00\n",
       "Time:                        16:43:05   Log-Likelihood:            -3.5995e+06\n",
       "No. Observations:              867000   AIC:                         7.199e+06\n",
       "Df Residuals:                  866940   BIC:                         7.200e+06\n",
       "Df Model:                          59                                         \n",
       "Covariance Type:            nonrobust                                         \n",
       "===============================================================================\n",
       "                  coef    std err          t      P>|t|      [0.025      0.975]\n",
       "-------------------------------------------------------------------------------\n",
       "Intercept       6.5075      0.130     50.051      0.000       6.253       6.762\n",
       "item[T.2]      36.5106      0.165    221.104      0.000      36.187      36.834\n",
       "item[T.3]      14.6079      0.165     88.464      0.000      14.284      14.932\n",
       "item[T.4]       0.0286      0.165      0.173      0.862      -0.295       0.352\n",
       "item[T.5]      -3.6229      0.165    -21.940      0.000      -3.947      -3.299\n",
       "item[T.6]      36.4446      0.165    220.704      0.000      36.121      36.768\n",
       "item[T.7]      36.4556      0.165    220.771      0.000      36.132      36.779\n",
       "item[T.8]      54.8046      0.165    331.890      0.000      54.481      55.128\n",
       "item[T.9]      29.3615      0.165    177.810      0.000      29.038      29.685\n",
       "item[T.10]     51.1067      0.165    309.496      0.000      50.783      51.430\n",
       "item[T.11]     47.5085      0.165    287.706      0.000      47.185      47.832\n",
       "item[T.12]     47.5400      0.165    287.897      0.000      47.216      47.864\n",
       "item[T.13]     62.1903      0.165    376.617      0.000      61.867      62.514\n",
       "item[T.14]     36.5878      0.165    221.572      0.000      36.264      36.911\n",
       "item[T.15]     65.8734      0.165    398.921      0.000      65.550      66.197\n",
       "item[T.16]      3.6753      0.165     22.257      0.000       3.352       3.999\n",
       "item[T.17]     10.9964      0.165     66.593      0.000      10.673      11.320\n",
       "item[T.18]     62.1405      0.165    376.315      0.000      61.817      62.464\n",
       "item[T.19]     18.3308      0.165    111.009      0.000      18.007      18.654\n",
       "item[T.20]     25.4657      0.165    154.218      0.000      25.142      25.789\n",
       "item[T.21]     18.2876      0.165    110.748      0.000      17.964      18.611\n",
       "item[T.22]     58.3719      0.165    353.493      0.000      58.048      58.696\n",
       "item[T.23]      7.2867      0.165     44.128      0.000       6.963       7.610\n",
       "item[T.24]     43.9546      0.165    266.184      0.000      43.631      44.278\n",
       "item[T.25]     58.5685      0.165    354.684      0.000      58.245      58.892\n",
       "item[T.26]     25.6007      0.165    155.035      0.000      25.277      25.924\n",
       "item[T.27]      0.0796      0.165      0.482      0.630      -0.244       0.403\n",
       "item[T.28]     65.7250      0.165    398.023      0.000      65.401      66.049\n",
       "item[T.29]     47.5217      0.165    287.786      0.000      47.198      47.845\n",
       "item[T.30]     18.3263      0.165    110.982      0.000      18.003      18.650\n",
       "item[T.31]     36.5745      0.165    221.491      0.000      36.251      36.898\n",
       "item[T.32]     21.9264      0.165    132.784      0.000      21.603      22.250\n",
       "item[T.33]     47.4829      0.165    287.551      0.000      47.159      47.807\n",
       "item[T.34]      3.7349      0.165     22.618      0.000       3.411       4.059\n",
       "item[T.35]     43.7145      0.165    264.730      0.000      43.391      44.038\n",
       "item[T.36]     54.8906      0.165    332.411      0.000      54.567      55.214\n",
       "item[T.37]      7.2517      0.165     43.915      0.000       6.928       7.575\n",
       "item[T.38]     58.3591      0.165    353.416      0.000      58.035      58.683\n",
       "item[T.39]     21.8348      0.165    132.229      0.000      21.511      22.158\n",
       "item[T.40]      7.2393      0.165     43.841      0.000       6.916       7.563\n",
       "item[T.41]      0.0296      0.165      0.180      0.858      -0.294       0.353\n",
       "item[T.42]     14.6773      0.165     88.884      0.000      14.354      15.001\n",
       "item[T.43]     29.2209      0.165    176.958      0.000      28.897      29.545\n",
       "item[T.44]      7.3895      0.165     44.750      0.000       7.066       7.713\n",
       "item[T.45]     58.4681      0.165    354.076      0.000      58.144      58.792\n",
       "item[T.46]     36.5456      0.165    221.316      0.000      36.222      36.869\n",
       "item[T.47]      0.0213      0.165      0.129      0.897      -0.302       0.345\n",
       "item[T.48]     29.2808      0.165    177.321      0.000      28.957      29.604\n",
       "item[T.49]      7.3501      0.165     44.511      0.000       7.026       7.674\n",
       "item[T.50]     43.8181      0.165    265.357      0.000      43.494      44.142\n",
       "store[T.2]     19.7152      0.074    266.971      0.000      19.570      19.860\n",
       "store[T.3]     12.2395      0.074    165.740      0.000      12.095      12.384\n",
       "store[T.4]      7.6248      0.074    103.250      0.000       7.480       7.770\n",
       "store[T.5]     -7.4691      0.074   -101.142      0.000      -7.614      -7.324\n",
       "store[T.6]     -7.5093      0.074   -101.685      0.000      -7.654      -7.365\n",
       "store[T.7]    -10.8729      0.074   -147.234      0.000     -11.018     -10.728\n",
       "store[T.8]     16.8263      0.074    227.852      0.000      16.682      16.971\n",
       "store[T.9]      7.7636      0.074    105.129      0.000       7.619       7.908\n",
       "store[T.10]    11.4290      0.074    154.765      0.000      11.284      11.574\n",
       "datevalue       0.0121    3.3e-05    365.529      0.000       0.012       0.012\n",
       "==============================================================================\n",
       "Omnibus:                    45473.632   Durbin-Watson:                   0.634\n",
       "Prob(Omnibus):                  0.000   Jarque-Bera (JB):            77088.452\n",
       "Skew:                           0.429   Prob(JB):                         0.00\n",
       "Kurtosis:                       4.182   Cond. No.                     5.05e+04\n",
       "==============================================================================\n",
       "\n",
       "Warnings:\n",
       "[1] Standard Errors assume that the covariance matrix of the errors is correctly specified.\n",
       "[2] The condition number is large, 5.05e+04. This might indicate that there are\n",
       "strong multicollinearity or other numerical problems.\n",
       "\"\"\""
      ]
     },
     "execution_count": 87,
     "metadata": {},
     "output_type": "execute_result"
    }
   ],
   "source": [
    "result_1.summary()"
   ]
  },
  {
   "cell_type": "code",
   "execution_count": 88,
   "metadata": {},
   "outputs": [
    {
     "data": {
      "text/html": [
       "<div>\n",
       "<style scoped>\n",
       "    .dataframe tbody tr th:only-of-type {\n",
       "        vertical-align: middle;\n",
       "    }\n",
       "\n",
       "    .dataframe tbody tr th {\n",
       "        vertical-align: top;\n",
       "    }\n",
       "\n",
       "    .dataframe thead th {\n",
       "        text-align: right;\n",
       "    }\n",
       "</style>\n",
       "<table border=\"1\" class=\"dataframe\">\n",
       "  <thead>\n",
       "    <tr style=\"text-align: right;\">\n",
       "      <th></th>\n",
       "      <th>store</th>\n",
       "      <th>item</th>\n",
       "      <th>sales</th>\n",
       "      <th>datevalue</th>\n",
       "      <th>predicted</th>\n",
       "    </tr>\n",
       "    <tr>\n",
       "      <th>date</th>\n",
       "      <th></th>\n",
       "      <th></th>\n",
       "      <th></th>\n",
       "      <th></th>\n",
       "      <th></th>\n",
       "    </tr>\n",
       "  </thead>\n",
       "  <tbody>\n",
       "    <tr>\n",
       "      <th>2013-01-01</th>\n",
       "      <td>1</td>\n",
       "      <td>1</td>\n",
       "      <td>13</td>\n",
       "      <td>0</td>\n",
       "      <td>6.507513</td>\n",
       "    </tr>\n",
       "    <tr>\n",
       "      <th>2013-01-01</th>\n",
       "      <td>2</td>\n",
       "      <td>1</td>\n",
       "      <td>12</td>\n",
       "      <td>0</td>\n",
       "      <td>26.222749</td>\n",
       "    </tr>\n",
       "    <tr>\n",
       "      <th>2013-01-01</th>\n",
       "      <td>3</td>\n",
       "      <td>1</td>\n",
       "      <td>19</td>\n",
       "      <td>0</td>\n",
       "      <td>18.747052</td>\n",
       "    </tr>\n",
       "    <tr>\n",
       "      <th>2013-01-01</th>\n",
       "      <td>4</td>\n",
       "      <td>1</td>\n",
       "      <td>10</td>\n",
       "      <td>0</td>\n",
       "      <td>14.132323</td>\n",
       "    </tr>\n",
       "    <tr>\n",
       "      <th>2013-01-01</th>\n",
       "      <td>5</td>\n",
       "      <td>1</td>\n",
       "      <td>11</td>\n",
       "      <td>0</td>\n",
       "      <td>-0.961633</td>\n",
       "    </tr>\n",
       "  </tbody>\n",
       "</table>\n",
       "</div>"
      ],
      "text/plain": [
       "           store item  sales  datevalue  predicted\n",
       "date                                              \n",
       "2013-01-01     1    1     13          0   6.507513\n",
       "2013-01-01     2    1     12          0  26.222749\n",
       "2013-01-01     3    1     19          0  18.747052\n",
       "2013-01-01     4    1     10          0  14.132323\n",
       "2013-01-01     5    1     11          0  -0.961633"
      ]
     },
     "execution_count": 88,
     "metadata": {},
     "output_type": "execute_result"
    }
   ],
   "source": [
    "TD2[\"predicted\"] = result_1.predict(TD2)\n",
    "\n",
    "TD2.head()"
   ]
  },
  {
   "cell_type": "code",
   "execution_count": 89,
   "metadata": {},
   "outputs": [
    {
     "data": {
      "text/plain": [
       "'The SMAPE error percentage is 26.88% for the TRAIN Data'"
      ]
     },
     "execution_count": 89,
     "metadata": {},
     "output_type": "execute_result"
    }
   ],
   "source": [
    "error_1, text_1 = calculate_error(TD2[\"sales\"], TD2[\"predicted\"])\n",
    "text_1 + \" for the TRAIN Data\""
   ]
  },
  {
   "cell_type": "code",
   "execution_count": 90,
   "metadata": {},
   "outputs": [
    {
     "data": {
      "text/html": [
       "<div>\n",
       "<style scoped>\n",
       "    .dataframe tbody tr th:only-of-type {\n",
       "        vertical-align: middle;\n",
       "    }\n",
       "\n",
       "    .dataframe tbody tr th {\n",
       "        vertical-align: top;\n",
       "    }\n",
       "\n",
       "    .dataframe thead th {\n",
       "        text-align: right;\n",
       "    }\n",
       "</style>\n",
       "<table border=\"1\" class=\"dataframe\">\n",
       "  <thead>\n",
       "    <tr style=\"text-align: right;\">\n",
       "      <th></th>\n",
       "      <th>store</th>\n",
       "      <th>item</th>\n",
       "      <th>sales</th>\n",
       "      <th>datevalue</th>\n",
       "      <th>predicted</th>\n",
       "    </tr>\n",
       "    <tr>\n",
       "      <th>date</th>\n",
       "      <th></th>\n",
       "      <th></th>\n",
       "      <th></th>\n",
       "      <th></th>\n",
       "      <th></th>\n",
       "    </tr>\n",
       "  </thead>\n",
       "  <tbody>\n",
       "    <tr>\n",
       "      <th>2017-10-01</th>\n",
       "      <td>1</td>\n",
       "      <td>1</td>\n",
       "      <td>21</td>\n",
       "      <td>1734</td>\n",
       "      <td>27.416575</td>\n",
       "    </tr>\n",
       "    <tr>\n",
       "      <th>2017-10-01</th>\n",
       "      <td>2</td>\n",
       "      <td>1</td>\n",
       "      <td>42</td>\n",
       "      <td>1734</td>\n",
       "      <td>47.131812</td>\n",
       "    </tr>\n",
       "    <tr>\n",
       "      <th>2017-10-01</th>\n",
       "      <td>3</td>\n",
       "      <td>1</td>\n",
       "      <td>42</td>\n",
       "      <td>1734</td>\n",
       "      <td>39.656114</td>\n",
       "    </tr>\n",
       "    <tr>\n",
       "      <th>2017-10-01</th>\n",
       "      <td>4</td>\n",
       "      <td>1</td>\n",
       "      <td>32</td>\n",
       "      <td>1734</td>\n",
       "      <td>35.041385</td>\n",
       "    </tr>\n",
       "    <tr>\n",
       "      <th>2017-10-01</th>\n",
       "      <td>5</td>\n",
       "      <td>1</td>\n",
       "      <td>17</td>\n",
       "      <td>1734</td>\n",
       "      <td>19.947429</td>\n",
       "    </tr>\n",
       "  </tbody>\n",
       "</table>\n",
       "</div>"
      ],
      "text/plain": [
       "           store item  sales  datevalue  predicted\n",
       "date                                              \n",
       "2017-10-01     1    1     21       1734  27.416575\n",
       "2017-10-01     2    1     42       1734  47.131812\n",
       "2017-10-01     3    1     42       1734  39.656114\n",
       "2017-10-01     4    1     32       1734  35.041385\n",
       "2017-10-01     5    1     17       1734  19.947429"
      ]
     },
     "execution_count": 90,
     "metadata": {},
     "output_type": "execute_result"
    }
   ],
   "source": [
    "TE2[\"predicted\"] = result_1.predict(TE2)\n",
    "\n",
    "TE2.head()"
   ]
  },
  {
   "cell_type": "code",
   "execution_count": 91,
   "metadata": {},
   "outputs": [
    {
     "data": {
      "text/plain": [
       "'The SMAPE error percentage is 26.34% for the TEST Data'"
      ]
     },
     "execution_count": 91,
     "metadata": {},
     "output_type": "execute_result"
    }
   ],
   "source": [
    "error_1_test, text_1_test = calculate_error(TE2[\"sales\"], TE2[\"predicted\"])\n",
    "text_1_test + \" for the TEST Data\""
   ]
  },
  {
   "cell_type": "code",
   "execution_count": 92,
   "metadata": {},
   "outputs": [
    {
     "data": {
      "text/plain": [
       "<matplotlib.axes._subplots.AxesSubplot at 0x1d58756ee80>"
      ]
     },
     "execution_count": 92,
     "metadata": {},
     "output_type": "execute_result"
    },
    {
     "data": {
      "image/png": "[encoded data removed]",
      "text/plain": [
       "<Figure size 432x288 with 1 Axes>"
      ]
     },
     "metadata": {},
     "output_type": "display_data"
    }
   ],
   "source": [
    "TD2[(TD2[\"item\"] == 1) & (TD2[\"store\"] == 1)].predicted.plot(marker=\"o\", markersize = 5)\n",
    "TD2[(TD2[\"item\"] == 1) & (TD2[\"store\"] == 1)].sales.plot(marker=\"o\", color = \"r\", linewidth = 0.5, markersize = 2)"
   ]
  },
  {
   "cell_type": "code",
   "execution_count": 93,
   "metadata": {},
   "outputs": [
    {
     "data": {
      "text/plain": [
       "<matplotlib.axes._subplots.AxesSubplot at 0x1d58076f358>"
      ]
     },
     "execution_count": 93,
     "metadata": {},
     "output_type": "execute_result"
    },
    {
     "data": {
      "image/png": "[encoded data removed]",
      "text/plain": [
       "<Figure size 432x288 with 1 Axes>"
      ]
     },
     "metadata": {},
     "output_type": "display_data"
    }
   ],
   "source": [
    "TE2[(TE2[\"item\"] == 1) & (TE2[\"store\"] == 1)].predicted.plot(marker=\"o\")\n",
    "TE2[(TE2[\"item\"] == 1) & (TE2[\"store\"] == 1)].sales.plot(marker=\"o\", color = \"r\")"
   ]
  },
  {
   "cell_type": "code",
   "execution_count": null,
   "metadata": {},
   "outputs": [],
   "source": []
  },
  {
   "cell_type": "markdown",
   "metadata": {},
   "source": [
    "The model is too simple to represent the data!!"
   ]
  },
  {
   "cell_type": "markdown",
   "metadata": {},
   "source": [
    "## Second model: add more variables to regression on aggregated data"
   ]
  },
  {
   "cell_type": "code",
   "execution_count": 94,
   "metadata": {},
   "outputs": [],
   "source": [
    "TD3 = TD2.copy()\n",
    "TE3 = TE2.copy()"
   ]
  },
  {
   "cell_type": "code",
   "execution_count": 95,
   "metadata": {},
   "outputs": [
    {
     "data": {
      "text/html": [
       "<div>\n",
       "<style scoped>\n",
       "    .dataframe tbody tr th:only-of-type {\n",
       "        vertical-align: middle;\n",
       "    }\n",
       "\n",
       "    .dataframe tbody tr th {\n",
       "        vertical-align: top;\n",
       "    }\n",
       "\n",
       "    .dataframe thead th {\n",
       "        text-align: right;\n",
       "    }\n",
       "</style>\n",
       "<table border=\"1\" class=\"dataframe\">\n",
       "  <thead>\n",
       "    <tr style=\"text-align: right;\">\n",
       "      <th></th>\n",
       "      <th>store</th>\n",
       "      <th>item</th>\n",
       "      <th>sales</th>\n",
       "      <th>datevalue</th>\n",
       "      <th>predicted</th>\n",
       "      <th>weekday</th>\n",
       "    </tr>\n",
       "    <tr>\n",
       "      <th>date</th>\n",
       "      <th></th>\n",
       "      <th></th>\n",
       "      <th></th>\n",
       "      <th></th>\n",
       "      <th></th>\n",
       "      <th></th>\n",
       "    </tr>\n",
       "  </thead>\n",
       "  <tbody>\n",
       "    <tr>\n",
       "      <th>2013-01-01</th>\n",
       "      <td>1</td>\n",
       "      <td>1</td>\n",
       "      <td>13</td>\n",
       "      <td>0</td>\n",
       "      <td>6.507513</td>\n",
       "      <td>1</td>\n",
       "    </tr>\n",
       "    <tr>\n",
       "      <th>2013-01-01</th>\n",
       "      <td>2</td>\n",
       "      <td>1</td>\n",
       "      <td>12</td>\n",
       "      <td>0</td>\n",
       "      <td>26.222749</td>\n",
       "      <td>1</td>\n",
       "    </tr>\n",
       "    <tr>\n",
       "      <th>2013-01-01</th>\n",
       "      <td>3</td>\n",
       "      <td>1</td>\n",
       "      <td>19</td>\n",
       "      <td>0</td>\n",
       "      <td>18.747052</td>\n",
       "      <td>1</td>\n",
       "    </tr>\n",
       "    <tr>\n",
       "      <th>2013-01-01</th>\n",
       "      <td>4</td>\n",
       "      <td>1</td>\n",
       "      <td>10</td>\n",
       "      <td>0</td>\n",
       "      <td>14.132323</td>\n",
       "      <td>1</td>\n",
       "    </tr>\n",
       "    <tr>\n",
       "      <th>2013-01-01</th>\n",
       "      <td>5</td>\n",
       "      <td>1</td>\n",
       "      <td>11</td>\n",
       "      <td>0</td>\n",
       "      <td>-0.961633</td>\n",
       "      <td>1</td>\n",
       "    </tr>\n",
       "  </tbody>\n",
       "</table>\n",
       "</div>"
      ],
      "text/plain": [
       "           store item  sales  datevalue  predicted weekday\n",
       "date                                                      \n",
       "2013-01-01     1    1     13          0   6.507513       1\n",
       "2013-01-01     2    1     12          0  26.222749       1\n",
       "2013-01-01     3    1     19          0  18.747052       1\n",
       "2013-01-01     4    1     10          0  14.132323       1\n",
       "2013-01-01     5    1     11          0  -0.961633       1"
      ]
     },
     "execution_count": 95,
     "metadata": {},
     "output_type": "execute_result"
    }
   ],
   "source": [
    "TD3[\"weekday\"] = TD3.index.weekday.astype(\"category\")\n",
    "TE3[\"weekday\"] = TE3.index.weekday.astype(\"category\")\n",
    "\n",
    "TD3.head()"
   ]
  },
  {
   "cell_type": "code",
   "execution_count": 96,
   "metadata": {},
   "outputs": [
    {
     "data": {
      "text/html": [
       "<div>\n",
       "<style scoped>\n",
       "    .dataframe tbody tr th:only-of-type {\n",
       "        vertical-align: middle;\n",
       "    }\n",
       "\n",
       "    .dataframe tbody tr th {\n",
       "        vertical-align: top;\n",
       "    }\n",
       "\n",
       "    .dataframe thead th {\n",
       "        text-align: right;\n",
       "    }\n",
       "</style>\n",
       "<table border=\"1\" class=\"dataframe\">\n",
       "  <thead>\n",
       "    <tr style=\"text-align: right;\">\n",
       "      <th></th>\n",
       "      <th>store</th>\n",
       "      <th>item</th>\n",
       "      <th>sales</th>\n",
       "      <th>datevalue</th>\n",
       "      <th>predicted</th>\n",
       "      <th>weekday</th>\n",
       "      <th>month</th>\n",
       "    </tr>\n",
       "    <tr>\n",
       "      <th>date</th>\n",
       "      <th></th>\n",
       "      <th></th>\n",
       "      <th></th>\n",
       "      <th></th>\n",
       "      <th></th>\n",
       "      <th></th>\n",
       "      <th></th>\n",
       "    </tr>\n",
       "  </thead>\n",
       "  <tbody>\n",
       "    <tr>\n",
       "      <th>2017-09-30</th>\n",
       "      <td>6</td>\n",
       "      <td>50</td>\n",
       "      <td>66</td>\n",
       "      <td>1733</td>\n",
       "      <td>63.713317</td>\n",
       "      <td>5</td>\n",
       "      <td>9</td>\n",
       "    </tr>\n",
       "    <tr>\n",
       "      <th>2017-09-30</th>\n",
       "      <td>7</td>\n",
       "      <td>50</td>\n",
       "      <td>56</td>\n",
       "      <td>1733</td>\n",
       "      <td>60.349673</td>\n",
       "      <td>5</td>\n",
       "      <td>9</td>\n",
       "    </tr>\n",
       "    <tr>\n",
       "      <th>2017-09-30</th>\n",
       "      <td>8</td>\n",
       "      <td>50</td>\n",
       "      <td>115</td>\n",
       "      <td>1733</td>\n",
       "      <td>88.048911</td>\n",
       "      <td>5</td>\n",
       "      <td>9</td>\n",
       "    </tr>\n",
       "    <tr>\n",
       "      <th>2017-09-30</th>\n",
       "      <td>9</td>\n",
       "      <td>50</td>\n",
       "      <td>86</td>\n",
       "      <td>1733</td>\n",
       "      <td>78.986120</td>\n",
       "      <td>5</td>\n",
       "      <td>9</td>\n",
       "    </tr>\n",
       "    <tr>\n",
       "      <th>2017-09-30</th>\n",
       "      <td>10</td>\n",
       "      <td>50</td>\n",
       "      <td>103</td>\n",
       "      <td>1733</td>\n",
       "      <td>82.651610</td>\n",
       "      <td>5</td>\n",
       "      <td>9</td>\n",
       "    </tr>\n",
       "  </tbody>\n",
       "</table>\n",
       "</div>"
      ],
      "text/plain": [
       "           store item  sales  datevalue  predicted weekday month\n",
       "date                                                            \n",
       "2017-09-30     6   50     66       1733  63.713317       5     9\n",
       "2017-09-30     7   50     56       1733  60.349673       5     9\n",
       "2017-09-30     8   50    115       1733  88.048911       5     9\n",
       "2017-09-30     9   50     86       1733  78.986120       5     9\n",
       "2017-09-30    10   50    103       1733  82.651610       5     9"
      ]
     },
     "execution_count": 96,
     "metadata": {},
     "output_type": "execute_result"
    }
   ],
   "source": [
    "TD3[\"month\"] = TD3.index.month.astype(\"category\")\n",
    "TE3[\"month\"] = TE3.index.month.astype(\"category\")\n",
    "\n",
    "TD3.tail()"
   ]
  },
  {
   "cell_type": "code",
   "execution_count": 97,
   "metadata": {},
   "outputs": [],
   "source": [
    "model_2 = smf.ols(data = TD3, formula = \"sales ~ datevalue + item + store + weekday + month\")\n",
    "\n",
    "result_2 = model_2.fit()"
   ]
  },
  {
   "cell_type": "code",
   "execution_count": 98,
   "metadata": {},
   "outputs": [
    {
     "data": {
      "text/html": [
       "<table class=\"simpletable\">\n",
       "<caption>OLS Regression Results</caption>\n",
       "<tr>\n",
       "  <th>Dep. Variable:</th>          <td>sales</td>      <th>  R-squared:         </th>  <td>   0.869</td>  \n",
       "</tr>\n",
       "<tr>\n",
       "  <th>Model:</th>                   <td>OLS</td>       <th>  Adj. R-squared:    </th>  <td>   0.869</td>  \n",
       "</tr>\n",
       "<tr>\n",
       "  <th>Method:</th>             <td>Least Squares</td>  <th>  F-statistic:       </th>  <td>7.550e+04</td> \n",
       "</tr>\n",
       "<tr>\n",
       "  <th>Date:</th>             <td>Mon, 26 Nov 2018</td> <th>  Prob (F-statistic):</th>   <td>  0.00</td>   \n",
       "</tr>\n",
       "<tr>\n",
       "  <th>Time:</th>                 <td>16:43:16</td>     <th>  Log-Likelihood:    </th> <td>-3.2637e+06</td>\n",
       "</tr>\n",
       "<tr>\n",
       "  <th>No. Observations:</th>      <td>867000</td>      <th>  AIC:               </th>  <td>6.528e+06</td> \n",
       "</tr>\n",
       "<tr>\n",
       "  <th>Df Residuals:</th>          <td>866923</td>      <th>  BIC:               </th>  <td>6.529e+06</td> \n",
       "</tr>\n",
       "<tr>\n",
       "  <th>Df Model:</th>              <td>    76</td>      <th>                     </th>      <td> </td>     \n",
       "</tr>\n",
       "<tr>\n",
       "  <th>Covariance Type:</th>      <td>nonrobust</td>    <th>                     </th>      <td> </td>     \n",
       "</tr>\n",
       "</table>\n",
       "<table class=\"simpletable\">\n",
       "<tr>\n",
       "        <td></td>          <th>coef</th>     <th>std err</th>      <th>t</th>      <th>P>|t|</th>  <th>[0.025</th>    <th>0.975]</th>  \n",
       "</tr>\n",
       "<tr>\n",
       "  <th>Intercept</th>    <td>  -18.3224</td> <td>    0.099</td> <td> -185.570</td> <td> 0.000</td> <td>  -18.516</td> <td>  -18.129</td>\n",
       "</tr>\n",
       "<tr>\n",
       "  <th>item[T.2]</th>    <td>   36.5106</td> <td>    0.112</td> <td>  325.672</td> <td> 0.000</td> <td>   36.291</td> <td>   36.730</td>\n",
       "</tr>\n",
       "<tr>\n",
       "  <th>item[T.3]</th>    <td>   14.6079</td> <td>    0.112</td> <td>  130.302</td> <td> 0.000</td> <td>   14.388</td> <td>   14.828</td>\n",
       "</tr>\n",
       "<tr>\n",
       "  <th>item[T.4]</th>    <td>    0.0286</td> <td>    0.112</td> <td>    0.255</td> <td> 0.799</td> <td>   -0.191</td> <td>    0.248</td>\n",
       "</tr>\n",
       "<tr>\n",
       "  <th>item[T.5]</th>    <td>   -3.6229</td> <td>    0.112</td> <td>  -32.316</td> <td> 0.000</td> <td>   -3.843</td> <td>   -3.403</td>\n",
       "</tr>\n",
       "<tr>\n",
       "  <th>item[T.6]</th>    <td>   36.4446</td> <td>    0.112</td> <td>  325.084</td> <td> 0.000</td> <td>   36.225</td> <td>   36.664</td>\n",
       "</tr>\n",
       "<tr>\n",
       "  <th>item[T.7]</th>    <td>   36.4556</td> <td>    0.112</td> <td>  325.182</td> <td> 0.000</td> <td>   36.236</td> <td>   36.675</td>\n",
       "</tr>\n",
       "<tr>\n",
       "  <th>item[T.8]</th>    <td>   54.8046</td> <td>    0.112</td> <td>  488.854</td> <td> 0.000</td> <td>   54.585</td> <td>   55.024</td>\n",
       "</tr>\n",
       "<tr>\n",
       "  <th>item[T.9]</th>    <td>   29.3615</td> <td>    0.112</td> <td>  261.902</td> <td> 0.000</td> <td>   29.142</td> <td>   29.581</td>\n",
       "</tr>\n",
       "<tr>\n",
       "  <th>item[T.10]</th>   <td>   51.1067</td> <td>    0.112</td> <td>  455.869</td> <td> 0.000</td> <td>   50.887</td> <td>   51.326</td>\n",
       "</tr>\n",
       "<tr>\n",
       "  <th>item[T.11]</th>   <td>   47.5085</td> <td>    0.112</td> <td>  423.773</td> <td> 0.000</td> <td>   47.289</td> <td>   47.728</td>\n",
       "</tr>\n",
       "<tr>\n",
       "  <th>item[T.12]</th>   <td>   47.5400</td> <td>    0.112</td> <td>  424.054</td> <td> 0.000</td> <td>   47.320</td> <td>   47.760</td>\n",
       "</tr>\n",
       "<tr>\n",
       "  <th>item[T.13]</th>   <td>   62.1903</td> <td>    0.112</td> <td>  554.734</td> <td> 0.000</td> <td>   61.971</td> <td>   62.410</td>\n",
       "</tr>\n",
       "<tr>\n",
       "  <th>item[T.14]</th>   <td>   36.5878</td> <td>    0.112</td> <td>  326.361</td> <td> 0.000</td> <td>   36.368</td> <td>   36.808</td>\n",
       "</tr>\n",
       "<tr>\n",
       "  <th>item[T.15]</th>   <td>   65.8734</td> <td>    0.112</td> <td>  587.586</td> <td> 0.000</td> <td>   65.654</td> <td>   66.093</td>\n",
       "</tr>\n",
       "<tr>\n",
       "  <th>item[T.16]</th>   <td>    3.6753</td> <td>    0.112</td> <td>   32.783</td> <td> 0.000</td> <td>    3.456</td> <td>    3.895</td>\n",
       "</tr>\n",
       "<tr>\n",
       "  <th>item[T.17]</th>   <td>   10.9964</td> <td>    0.112</td> <td>   98.087</td> <td> 0.000</td> <td>   10.777</td> <td>   11.216</td>\n",
       "</tr>\n",
       "<tr>\n",
       "  <th>item[T.18]</th>   <td>   62.1405</td> <td>    0.112</td> <td>  554.289</td> <td> 0.000</td> <td>   61.921</td> <td>   62.360</td>\n",
       "</tr>\n",
       "<tr>\n",
       "  <th>item[T.19]</th>   <td>   18.3308</td> <td>    0.112</td> <td>  163.510</td> <td> 0.000</td> <td>   18.111</td> <td>   18.551</td>\n",
       "</tr>\n",
       "<tr>\n",
       "  <th>item[T.20]</th>   <td>   25.4657</td> <td>    0.112</td> <td>  227.153</td> <td> 0.000</td> <td>   25.246</td> <td>   25.685</td>\n",
       "</tr>\n",
       "<tr>\n",
       "  <th>item[T.21]</th>   <td>   18.2876</td> <td>    0.112</td> <td>  163.124</td> <td> 0.000</td> <td>   18.068</td> <td>   18.507</td>\n",
       "</tr>\n",
       "<tr>\n",
       "  <th>item[T.22]</th>   <td>   58.3719</td> <td>    0.112</td> <td>  520.673</td> <td> 0.000</td> <td>   58.152</td> <td>   58.592</td>\n",
       "</tr>\n",
       "<tr>\n",
       "  <th>item[T.23]</th>   <td>    7.2867</td> <td>    0.112</td> <td>   64.997</td> <td> 0.000</td> <td>    7.067</td> <td>    7.506</td>\n",
       "</tr>\n",
       "<tr>\n",
       "  <th>item[T.24]</th>   <td>   43.9546</td> <td>    0.112</td> <td>  392.072</td> <td> 0.000</td> <td>   43.735</td> <td>   44.174</td>\n",
       "</tr>\n",
       "<tr>\n",
       "  <th>item[T.25]</th>   <td>   58.5685</td> <td>    0.112</td> <td>  522.427</td> <td> 0.000</td> <td>   58.349</td> <td>   58.788</td>\n",
       "</tr>\n",
       "<tr>\n",
       "  <th>item[T.26]</th>   <td>   25.6007</td> <td>    0.112</td> <td>  228.357</td> <td> 0.000</td> <td>   25.381</td> <td>   25.820</td>\n",
       "</tr>\n",
       "<tr>\n",
       "  <th>item[T.27]</th>   <td>    0.0796</td> <td>    0.112</td> <td>    0.710</td> <td> 0.478</td> <td>   -0.140</td> <td>    0.299</td>\n",
       "</tr>\n",
       "<tr>\n",
       "  <th>item[T.28]</th>   <td>   65.7250</td> <td>    0.112</td> <td>  586.263</td> <td> 0.000</td> <td>   65.505</td> <td>   65.945</td>\n",
       "</tr>\n",
       "<tr>\n",
       "  <th>item[T.29]</th>   <td>   47.5217</td> <td>    0.112</td> <td>  423.890</td> <td> 0.000</td> <td>   47.302</td> <td>   47.741</td>\n",
       "</tr>\n",
       "<tr>\n",
       "  <th>item[T.30]</th>   <td>   18.3263</td> <td>    0.112</td> <td>  163.469</td> <td> 0.000</td> <td>   18.107</td> <td>   18.546</td>\n",
       "</tr>\n",
       "<tr>\n",
       "  <th>item[T.31]</th>   <td>   36.5745</td> <td>    0.112</td> <td>  326.242</td> <td> 0.000</td> <td>   36.355</td> <td>   36.794</td>\n",
       "</tr>\n",
       "<tr>\n",
       "  <th>item[T.32]</th>   <td>   21.9264</td> <td>    0.112</td> <td>  195.582</td> <td> 0.000</td> <td>   21.707</td> <td>   22.146</td>\n",
       "</tr>\n",
       "<tr>\n",
       "  <th>item[T.33]</th>   <td>   47.4829</td> <td>    0.112</td> <td>  423.544</td> <td> 0.000</td> <td>   47.263</td> <td>   47.703</td>\n",
       "</tr>\n",
       "<tr>\n",
       "  <th>item[T.34]</th>   <td>    3.7349</td> <td>    0.112</td> <td>   33.315</td> <td> 0.000</td> <td>    3.515</td> <td>    3.955</td>\n",
       "</tr>\n",
       "<tr>\n",
       "  <th>item[T.35]</th>   <td>   43.7145</td> <td>    0.112</td> <td>  389.930</td> <td> 0.000</td> <td>   43.495</td> <td>   43.934</td>\n",
       "</tr>\n",
       "<tr>\n",
       "  <th>item[T.36]</th>   <td>   54.8906</td> <td>    0.112</td> <td>  489.621</td> <td> 0.000</td> <td>   54.671</td> <td>   55.110</td>\n",
       "</tr>\n",
       "<tr>\n",
       "  <th>item[T.37]</th>   <td>    7.2517</td> <td>    0.112</td> <td>   64.684</td> <td> 0.000</td> <td>    7.032</td> <td>    7.471</td>\n",
       "</tr>\n",
       "<tr>\n",
       "  <th>item[T.38]</th>   <td>   58.3591</td> <td>    0.112</td> <td>  520.559</td> <td> 0.000</td> <td>   58.139</td> <td>   58.579</td>\n",
       "</tr>\n",
       "<tr>\n",
       "  <th>item[T.39]</th>   <td>   21.8348</td> <td>    0.112</td> <td>  194.765</td> <td> 0.000</td> <td>   21.615</td> <td>   22.055</td>\n",
       "</tr>\n",
       "<tr>\n",
       "  <th>item[T.40]</th>   <td>    7.2393</td> <td>    0.112</td> <td>   64.574</td> <td> 0.000</td> <td>    7.020</td> <td>    7.459</td>\n",
       "</tr>\n",
       "<tr>\n",
       "  <th>item[T.41]</th>   <td>    0.0296</td> <td>    0.112</td> <td>    0.264</td> <td> 0.791</td> <td>   -0.190</td> <td>    0.249</td>\n",
       "</tr>\n",
       "<tr>\n",
       "  <th>item[T.42]</th>   <td>   14.6773</td> <td>    0.112</td> <td>  130.921</td> <td> 0.000</td> <td>   14.458</td> <td>   14.897</td>\n",
       "</tr>\n",
       "<tr>\n",
       "  <th>item[T.43]</th>   <td>   29.2209</td> <td>    0.112</td> <td>  260.648</td> <td> 0.000</td> <td>   29.001</td> <td>   29.441</td>\n",
       "</tr>\n",
       "<tr>\n",
       "  <th>item[T.44]</th>   <td>    7.3895</td> <td>    0.112</td> <td>   65.914</td> <td> 0.000</td> <td>    7.170</td> <td>    7.609</td>\n",
       "</tr>\n",
       "<tr>\n",
       "  <th>item[T.45]</th>   <td>   58.4681</td> <td>    0.112</td> <td>  521.532</td> <td> 0.000</td> <td>   58.248</td> <td>   58.688</td>\n",
       "</tr>\n",
       "<tr>\n",
       "  <th>item[T.46]</th>   <td>   36.5456</td> <td>    0.112</td> <td>  325.984</td> <td> 0.000</td> <td>   36.326</td> <td>   36.765</td>\n",
       "</tr>\n",
       "<tr>\n",
       "  <th>item[T.47]</th>   <td>    0.0213</td> <td>    0.112</td> <td>    0.190</td> <td> 0.849</td> <td>   -0.198</td> <td>    0.241</td>\n",
       "</tr>\n",
       "<tr>\n",
       "  <th>item[T.48]</th>   <td>   29.2808</td> <td>    0.112</td> <td>  261.183</td> <td> 0.000</td> <td>   29.061</td> <td>   29.501</td>\n",
       "</tr>\n",
       "<tr>\n",
       "  <th>item[T.49]</th>   <td>    7.3501</td> <td>    0.112</td> <td>   65.562</td> <td> 0.000</td> <td>    7.130</td> <td>    7.570</td>\n",
       "</tr>\n",
       "<tr>\n",
       "  <th>item[T.50]</th>   <td>   43.8181</td> <td>    0.112</td> <td>  390.854</td> <td> 0.000</td> <td>   43.598</td> <td>   44.038</td>\n",
       "</tr>\n",
       "<tr>\n",
       "  <th>store[T.2]</th>   <td>   19.7152</td> <td>    0.050</td> <td>  393.232</td> <td> 0.000</td> <td>   19.617</td> <td>   19.814</td>\n",
       "</tr>\n",
       "<tr>\n",
       "  <th>store[T.3]</th>   <td>   12.2395</td> <td>    0.050</td> <td>  244.125</td> <td> 0.000</td> <td>   12.141</td> <td>   12.338</td>\n",
       "</tr>\n",
       "<tr>\n",
       "  <th>store[T.4]</th>   <td>    7.6248</td> <td>    0.050</td> <td>  152.081</td> <td> 0.000</td> <td>    7.527</td> <td>    7.723</td>\n",
       "</tr>\n",
       "<tr>\n",
       "  <th>store[T.5]</th>   <td>   -7.4691</td> <td>    0.050</td> <td> -148.976</td> <td> 0.000</td> <td>   -7.567</td> <td>   -7.371</td>\n",
       "</tr>\n",
       "<tr>\n",
       "  <th>store[T.6]</th>   <td>   -7.5093</td> <td>    0.050</td> <td> -149.776</td> <td> 0.000</td> <td>   -7.608</td> <td>   -7.411</td>\n",
       "</tr>\n",
       "<tr>\n",
       "  <th>store[T.7]</th>   <td>  -10.8729</td> <td>    0.050</td> <td> -216.866</td> <td> 0.000</td> <td>  -10.971</td> <td>  -10.775</td>\n",
       "</tr>\n",
       "<tr>\n",
       "  <th>store[T.8]</th>   <td>   16.8263</td> <td>    0.050</td> <td>  335.611</td> <td> 0.000</td> <td>   16.728</td> <td>   16.925</td>\n",
       "</tr>\n",
       "<tr>\n",
       "  <th>store[T.9]</th>   <td>    7.7636</td> <td>    0.050</td> <td>  154.849</td> <td> 0.000</td> <td>    7.665</td> <td>    7.862</td>\n",
       "</tr>\n",
       "<tr>\n",
       "  <th>store[T.10]</th>  <td>   11.4290</td> <td>    0.050</td> <td>  227.959</td> <td> 0.000</td> <td>   11.331</td> <td>   11.527</td>\n",
       "</tr>\n",
       "<tr>\n",
       "  <th>weekday[T.1]</th> <td>    6.9023</td> <td>    0.042</td> <td>  164.470</td> <td> 0.000</td> <td>    6.820</td> <td>    6.985</td>\n",
       "</tr>\n",
       "<tr>\n",
       "  <th>weekday[T.2]</th> <td>    6.9279</td> <td>    0.042</td> <td>  165.078</td> <td> 0.000</td> <td>    6.846</td> <td>    7.010</td>\n",
       "</tr>\n",
       "<tr>\n",
       "  <th>weekday[T.3]</th> <td>   10.3552</td> <td>    0.042</td> <td>  246.736</td> <td> 0.000</td> <td>   10.273</td> <td>   10.437</td>\n",
       "</tr>\n",
       "<tr>\n",
       "  <th>weekday[T.4]</th> <td>   13.7833</td> <td>    0.042</td> <td>  328.424</td> <td> 0.000</td> <td>   13.701</td> <td>   13.866</td>\n",
       "</tr>\n",
       "<tr>\n",
       "  <th>weekday[T.5]</th> <td>   17.2055</td> <td>    0.042</td> <td>  409.965</td> <td> 0.000</td> <td>   17.123</td> <td>   17.288</td>\n",
       "</tr>\n",
       "<tr>\n",
       "  <th>weekday[T.6]</th> <td>   20.6927</td> <td>    0.042</td> <td>  492.570</td> <td> 0.000</td> <td>   20.610</td> <td>   20.775</td>\n",
       "</tr>\n",
       "<tr>\n",
       "  <th>month[T.2]</th>   <td>    3.6815</td> <td>    0.054</td> <td>   67.754</td> <td> 0.000</td> <td>    3.575</td> <td>    3.788</td>\n",
       "</tr>\n",
       "<tr>\n",
       "  <th>month[T.3]</th>   <td>   11.1870</td> <td>    0.053</td> <td>  210.889</td> <td> 0.000</td> <td>   11.083</td> <td>   11.291</td>\n",
       "</tr>\n",
       "<tr>\n",
       "  <th>month[T.4]</th>   <td>   18.7903</td> <td>    0.054</td> <td>  351.159</td> <td> 0.000</td> <td>   18.685</td> <td>   18.895</td>\n",
       "</tr>\n",
       "<tr>\n",
       "  <th>month[T.5]</th>   <td>   22.4193</td> <td>    0.053</td> <td>  422.215</td> <td> 0.000</td> <td>   22.315</td> <td>   22.523</td>\n",
       "</tr>\n",
       "<tr>\n",
       "  <th>month[T.6]</th>   <td>   26.0278</td> <td>    0.054</td> <td>  485.780</td> <td> 0.000</td> <td>   25.923</td> <td>   26.133</td>\n",
       "</tr>\n",
       "<tr>\n",
       "  <th>month[T.7]</th>   <td>   29.6989</td> <td>    0.053</td> <td>  558.371</td> <td> 0.000</td> <td>   29.595</td> <td>   29.803</td>\n",
       "</tr>\n",
       "<tr>\n",
       "  <th>month[T.8]</th>   <td>   21.4165</td> <td>    0.053</td> <td>  402.210</td> <td> 0.000</td> <td>   21.312</td> <td>   21.521</td>\n",
       "</tr>\n",
       "<tr>\n",
       "  <th>month[T.9]</th>   <td>   17.1864</td> <td>    0.054</td> <td>  319.736</td> <td> 0.000</td> <td>   17.081</td> <td>   17.292</td>\n",
       "</tr>\n",
       "<tr>\n",
       "  <th>month[T.10]</th>  <td>   13.2016</td> <td>    0.056</td> <td>  234.555</td> <td> 0.000</td> <td>   13.091</td> <td>   13.312</td>\n",
       "</tr>\n",
       "<tr>\n",
       "  <th>month[T.11]</th>  <td>   16.7040</td> <td>    0.057</td> <td>  293.911</td> <td> 0.000</td> <td>   16.593</td> <td>   16.815</td>\n",
       "</tr>\n",
       "<tr>\n",
       "  <th>month[T.12]</th>  <td>    1.1642</td> <td>    0.056</td> <td>   20.658</td> <td> 0.000</td> <td>    1.054</td> <td>    1.275</td>\n",
       "</tr>\n",
       "<tr>\n",
       "  <th>datevalue</th>    <td>    0.0104</td> <td> 2.26e-05</td> <td>  460.199</td> <td> 0.000</td> <td>    0.010</td> <td>    0.010</td>\n",
       "</tr>\n",
       "</table>\n",
       "<table class=\"simpletable\">\n",
       "<tr>\n",
       "  <th>Omnibus:</th>       <td>80060.213</td> <th>  Durbin-Watson:     </th>  <td>   1.374</td> \n",
       "</tr>\n",
       "<tr>\n",
       "  <th>Prob(Omnibus):</th>  <td> 0.000</td>   <th>  Jarque-Bera (JB):  </th> <td>140376.112</td>\n",
       "</tr>\n",
       "<tr>\n",
       "  <th>Skew:</th>           <td> 0.657</td>   <th>  Prob(JB):          </th>  <td>    0.00</td> \n",
       "</tr>\n",
       "<tr>\n",
       "  <th>Kurtosis:</th>       <td> 4.469</td>   <th>  Cond. No.          </th>  <td>5.05e+04</td> \n",
       "</tr>\n",
       "</table><br/><br/>Warnings:<br/>[1] Standard Errors assume that the covariance matrix of the errors is correctly specified.<br/>[2] The condition number is large, 5.05e+04. This might indicate that there are<br/>strong multicollinearity or other numerical problems."
      ],
      "text/plain": [
       "<class 'statsmodels.iolib.summary.Summary'>\n",
       "\"\"\"\n",
       "                            OLS Regression Results                            \n",
       "==============================================================================\n",
       "Dep. Variable:                  sales   R-squared:                       0.869\n",
       "Model:                            OLS   Adj. R-squared:                  0.869\n",
       "Method:                 Least Squares   F-statistic:                 7.550e+04\n",
       "Date:                Mon, 26 Nov 2018   Prob (F-statistic):               0.00\n",
       "Time:                        16:43:16   Log-Likelihood:            -3.2637e+06\n",
       "No. Observations:              867000   AIC:                         6.528e+06\n",
       "Df Residuals:                  866923   BIC:                         6.529e+06\n",
       "Df Model:                          76                                         \n",
       "Covariance Type:            nonrobust                                         \n",
       "================================================================================\n",
       "                   coef    std err          t      P>|t|      [0.025      0.975]\n",
       "--------------------------------------------------------------------------------\n",
       "Intercept      -18.3224      0.099   -185.570      0.000     -18.516     -18.129\n",
       "item[T.2]       36.5106      0.112    325.672      0.000      36.291      36.730\n",
       "item[T.3]       14.6079      0.112    130.302      0.000      14.388      14.828\n",
       "item[T.4]        0.0286      0.112      0.255      0.799      -0.191       0.248\n",
       "item[T.5]       -3.6229      0.112    -32.316      0.000      -3.843      -3.403\n",
       "item[T.6]       36.4446      0.112    325.084      0.000      36.225      36.664\n",
       "item[T.7]       36.4556      0.112    325.182      0.000      36.236      36.675\n",
       "item[T.8]       54.8046      0.112    488.854      0.000      54.585      55.024\n",
       "item[T.9]       29.3615      0.112    261.902      0.000      29.142      29.581\n",
       "item[T.10]      51.1067      0.112    455.869      0.000      50.887      51.326\n",
       "item[T.11]      47.5085      0.112    423.773      0.000      47.289      47.728\n",
       "item[T.12]      47.5400      0.112    424.054      0.000      47.320      47.760\n",
       "item[T.13]      62.1903      0.112    554.734      0.000      61.971      62.410\n",
       "item[T.14]      36.5878      0.112    326.361      0.000      36.368      36.808\n",
       "item[T.15]      65.8734      0.112    587.586      0.000      65.654      66.093\n",
       "item[T.16]       3.6753      0.112     32.783      0.000       3.456       3.895\n",
       "item[T.17]      10.9964      0.112     98.087      0.000      10.777      11.216\n",
       "item[T.18]      62.1405      0.112    554.289      0.000      61.921      62.360\n",
       "item[T.19]      18.3308      0.112    163.510      0.000      18.111      18.551\n",
       "item[T.20]      25.4657      0.112    227.153      0.000      25.246      25.685\n",
       "item[T.21]      18.2876      0.112    163.124      0.000      18.068      18.507\n",
       "item[T.22]      58.3719      0.112    520.673      0.000      58.152      58.592\n",
       "item[T.23]       7.2867      0.112     64.997      0.000       7.067       7.506\n",
       "item[T.24]      43.9546      0.112    392.072      0.000      43.735      44.174\n",
       "item[T.25]      58.5685      0.112    522.427      0.000      58.349      58.788\n",
       "item[T.26]      25.6007      0.112    228.357      0.000      25.381      25.820\n",
       "item[T.27]       0.0796      0.112      0.710      0.478      -0.140       0.299\n",
       "item[T.28]      65.7250      0.112    586.263      0.000      65.505      65.945\n",
       "item[T.29]      47.5217      0.112    423.890      0.000      47.302      47.741\n",
       "item[T.30]      18.3263      0.112    163.469      0.000      18.107      18.546\n",
       "item[T.31]      36.5745      0.112    326.242      0.000      36.355      36.794\n",
       "item[T.32]      21.9264      0.112    195.582      0.000      21.707      22.146\n",
       "item[T.33]      47.4829      0.112    423.544      0.000      47.263      47.703\n",
       "item[T.34]       3.7349      0.112     33.315      0.000       3.515       3.955\n",
       "item[T.35]      43.7145      0.112    389.930      0.000      43.495      43.934\n",
       "item[T.36]      54.8906      0.112    489.621      0.000      54.671      55.110\n",
       "item[T.37]       7.2517      0.112     64.684      0.000       7.032       7.471\n",
       "item[T.38]      58.3591      0.112    520.559      0.000      58.139      58.579\n",
       "item[T.39]      21.8348      0.112    194.765      0.000      21.615      22.055\n",
       "item[T.40]       7.2393      0.112     64.574      0.000       7.020       7.459\n",
       "item[T.41]       0.0296      0.112      0.264      0.791      -0.190       0.249\n",
       "item[T.42]      14.6773      0.112    130.921      0.000      14.458      14.897\n",
       "item[T.43]      29.2209      0.112    260.648      0.000      29.001      29.441\n",
       "item[T.44]       7.3895      0.112     65.914      0.000       7.170       7.609\n",
       "item[T.45]      58.4681      0.112    521.532      0.000      58.248      58.688\n",
       "item[T.46]      36.5456      0.112    325.984      0.000      36.326      36.765\n",
       "item[T.47]       0.0213      0.112      0.190      0.849      -0.198       0.241\n",
       "item[T.48]      29.2808      0.112    261.183      0.000      29.061      29.501\n",
       "item[T.49]       7.3501      0.112     65.562      0.000       7.130       7.570\n",
       "item[T.50]      43.8181      0.112    390.854      0.000      43.598      44.038\n",
       "store[T.2]      19.7152      0.050    393.232      0.000      19.617      19.814\n",
       "store[T.3]      12.2395      0.050    244.125      0.000      12.141      12.338\n",
       "store[T.4]       7.6248      0.050    152.081      0.000       7.527       7.723\n",
       "store[T.5]      -7.4691      0.050   -148.976      0.000      -7.567      -7.371\n",
       "store[T.6]      -7.5093      0.050   -149.776      0.000      -7.608      -7.411\n",
       "store[T.7]     -10.8729      0.050   -216.866      0.000     -10.971     -10.775\n",
       "store[T.8]      16.8263      0.050    335.611      0.000      16.728      16.925\n",
       "store[T.9]       7.7636      0.050    154.849      0.000       7.665       7.862\n",
       "store[T.10]     11.4290      0.050    227.959      0.000      11.331      11.527\n",
       "weekday[T.1]     6.9023      0.042    164.470      0.000       6.820       6.985\n",
       "weekday[T.2]     6.9279      0.042    165.078      0.000       6.846       7.010\n",
       "weekday[T.3]    10.3552      0.042    246.736      0.000      10.273      10.437\n",
       "weekday[T.4]    13.7833      0.042    328.424      0.000      13.701      13.866\n",
       "weekday[T.5]    17.2055      0.042    409.965      0.000      17.123      17.288\n",
       "weekday[T.6]    20.6927      0.042    492.570      0.000      20.610      20.775\n",
       "month[T.2]       3.6815      0.054     67.754      0.000       3.575       3.788\n",
       "month[T.3]      11.1870      0.053    210.889      0.000      11.083      11.291\n",
       "month[T.4]      18.7903      0.054    351.159      0.000      18.685      18.895\n",
       "month[T.5]      22.4193      0.053    422.215      0.000      22.315      22.523\n",
       "month[T.6]      26.0278      0.054    485.780      0.000      25.923      26.133\n",
       "month[T.7]      29.6989      0.053    558.371      0.000      29.595      29.803\n",
       "month[T.8]      21.4165      0.053    402.210      0.000      21.312      21.521\n",
       "month[T.9]      17.1864      0.054    319.736      0.000      17.081      17.292\n",
       "month[T.10]     13.2016      0.056    234.555      0.000      13.091      13.312\n",
       "month[T.11]     16.7040      0.057    293.911      0.000      16.593      16.815\n",
       "month[T.12]      1.1642      0.056     20.658      0.000       1.054       1.275\n",
       "datevalue        0.0104   2.26e-05    460.199      0.000       0.010       0.010\n",
       "==============================================================================\n",
       "Omnibus:                    80060.213   Durbin-Watson:                   1.374\n",
       "Prob(Omnibus):                  0.000   Jarque-Bera (JB):           140376.112\n",
       "Skew:                           0.657   Prob(JB):                         0.00\n",
       "Kurtosis:                       4.469   Cond. No.                     5.05e+04\n",
       "==============================================================================\n",
       "\n",
       "Warnings:\n",
       "[1] Standard Errors assume that the covariance matrix of the errors is correctly specified.\n",
       "[2] The condition number is large, 5.05e+04. This might indicate that there are\n",
       "strong multicollinearity or other numerical problems.\n",
       "\"\"\""
      ]
     },
     "execution_count": 98,
     "metadata": {},
     "output_type": "execute_result"
    }
   ],
   "source": [
    "result_2.summary()"
   ]
  },
  {
   "cell_type": "markdown",
   "metadata": {},
   "source": [
    "Problems with Colinearity! The Betas may not be real Betas."
   ]
  },
  {
   "cell_type": "code",
   "execution_count": 99,
   "metadata": {},
   "outputs": [
    {
     "data": {
      "text/html": [
       "<div>\n",
       "<style scoped>\n",
       "    .dataframe tbody tr th:only-of-type {\n",
       "        vertical-align: middle;\n",
       "    }\n",
       "\n",
       "    .dataframe tbody tr th {\n",
       "        vertical-align: top;\n",
       "    }\n",
       "\n",
       "    .dataframe thead th {\n",
       "        text-align: right;\n",
       "    }\n",
       "</style>\n",
       "<table border=\"1\" class=\"dataframe\">\n",
       "  <thead>\n",
       "    <tr style=\"text-align: right;\">\n",
       "      <th></th>\n",
       "      <th>store</th>\n",
       "      <th>item</th>\n",
       "      <th>sales</th>\n",
       "      <th>datevalue</th>\n",
       "      <th>predicted</th>\n",
       "      <th>weekday</th>\n",
       "      <th>month</th>\n",
       "    </tr>\n",
       "    <tr>\n",
       "      <th>date</th>\n",
       "      <th></th>\n",
       "      <th></th>\n",
       "      <th></th>\n",
       "      <th></th>\n",
       "      <th></th>\n",
       "      <th></th>\n",
       "      <th></th>\n",
       "    </tr>\n",
       "  </thead>\n",
       "  <tbody>\n",
       "    <tr>\n",
       "      <th>2013-01-01</th>\n",
       "      <td>1</td>\n",
       "      <td>1</td>\n",
       "      <td>13</td>\n",
       "      <td>0</td>\n",
       "      <td>-11.420047</td>\n",
       "      <td>1</td>\n",
       "      <td>1</td>\n",
       "    </tr>\n",
       "    <tr>\n",
       "      <th>2013-01-01</th>\n",
       "      <td>2</td>\n",
       "      <td>1</td>\n",
       "      <td>12</td>\n",
       "      <td>0</td>\n",
       "      <td>8.295189</td>\n",
       "      <td>1</td>\n",
       "      <td>1</td>\n",
       "    </tr>\n",
       "    <tr>\n",
       "      <th>2013-01-01</th>\n",
       "      <td>3</td>\n",
       "      <td>1</td>\n",
       "      <td>19</td>\n",
       "      <td>0</td>\n",
       "      <td>0.819491</td>\n",
       "      <td>1</td>\n",
       "      <td>1</td>\n",
       "    </tr>\n",
       "    <tr>\n",
       "      <th>2013-01-01</th>\n",
       "      <td>4</td>\n",
       "      <td>1</td>\n",
       "      <td>10</td>\n",
       "      <td>0</td>\n",
       "      <td>-3.795238</td>\n",
       "      <td>1</td>\n",
       "      <td>1</td>\n",
       "    </tr>\n",
       "    <tr>\n",
       "      <th>2013-01-01</th>\n",
       "      <td>5</td>\n",
       "      <td>1</td>\n",
       "      <td>11</td>\n",
       "      <td>0</td>\n",
       "      <td>-18.889194</td>\n",
       "      <td>1</td>\n",
       "      <td>1</td>\n",
       "    </tr>\n",
       "  </tbody>\n",
       "</table>\n",
       "</div>"
      ],
      "text/plain": [
       "           store item  sales  datevalue  predicted weekday month\n",
       "date                                                            \n",
       "2013-01-01     1    1     13          0 -11.420047       1     1\n",
       "2013-01-01     2    1     12          0   8.295189       1     1\n",
       "2013-01-01     3    1     19          0   0.819491       1     1\n",
       "2013-01-01     4    1     10          0  -3.795238       1     1\n",
       "2013-01-01     5    1     11          0 -18.889194       1     1"
      ]
     },
     "execution_count": 99,
     "metadata": {},
     "output_type": "execute_result"
    }
   ],
   "source": [
    "TD3[\"predicted\"] = result_2.predict(TD3)\n",
    "\n",
    "\n",
    "TD3.head()"
   ]
  },
  {
   "cell_type": "code",
   "execution_count": 100,
   "metadata": {},
   "outputs": [
    {
     "data": {
      "text/plain": [
       "'The SMAPE error percentage is 23.02% for the TRAIN Data'"
      ]
     },
     "execution_count": 100,
     "metadata": {},
     "output_type": "execute_result"
    }
   ],
   "source": [
    "error_2, text_2 = calculate_error(TD3[\"sales\"], TD3[\"predicted\"])\n",
    "text_2 + \" for the TRAIN Data\""
   ]
  },
  {
   "cell_type": "code",
   "execution_count": 101,
   "metadata": {},
   "outputs": [
    {
     "data": {
      "text/plain": [
       "<matplotlib.axes._subplots.AxesSubplot at 0x1d5807d4518>"
      ]
     },
     "execution_count": 101,
     "metadata": {},
     "output_type": "execute_result"
    },
    {
     "data": {
      "image/png": "[encoded data removed]",
      "text/plain": [
       "<Figure size 432x288 with 1 Axes>"
      ]
     },
     "metadata": {},
     "output_type": "display_data"
    }
   ],
   "source": [
    "TD3[(TD3[\"item\"] == 1) & (TD3[\"store\"] == 1)].predicted.plot(marker=\"o\", markersize = 5)\n",
    "TD3[(TD3[\"item\"] == 1) & (TD3[\"store\"] == 1)].sales.plot(marker=\"o\", color = \"r\", linewidth = 0.5, markersize = 2)"
   ]
  },
  {
   "cell_type": "code",
   "execution_count": 102,
   "metadata": {},
   "outputs": [
    {
     "data": {
      "text/plain": [
       "Int64Index([1, 2, 3, 4, 5, 6, 7, 8, 9, 10, 11, 12], dtype='int64')"
      ]
     },
     "execution_count": 102,
     "metadata": {},
     "output_type": "execute_result"
    }
   ],
   "source": [
    "TE3[\"month\"] = pd.Series(TE3[\"month\"], dtype = \"category\").cat.add_categories([1, 2, 3 , 4, 5, 6, 7, 8, 9])\n",
    "TE3[\"month\"] = TE3[\"month\"].cat.reorder_categories([1,2,3,4,5,6,7,8,9,10,11,12])\n",
    "TE3[\"month\"].cat.categories"
   ]
  },
  {
   "cell_type": "code",
   "execution_count": 103,
   "metadata": {},
   "outputs": [
    {
     "data": {
      "text/html": [
       "<div>\n",
       "<style scoped>\n",
       "    .dataframe tbody tr th:only-of-type {\n",
       "        vertical-align: middle;\n",
       "    }\n",
       "\n",
       "    .dataframe tbody tr th {\n",
       "        vertical-align: top;\n",
       "    }\n",
       "\n",
       "    .dataframe thead th {\n",
       "        text-align: right;\n",
       "    }\n",
       "</style>\n",
       "<table border=\"1\" class=\"dataframe\">\n",
       "  <thead>\n",
       "    <tr style=\"text-align: right;\">\n",
       "      <th></th>\n",
       "      <th>store</th>\n",
       "      <th>item</th>\n",
       "      <th>sales</th>\n",
       "      <th>datevalue</th>\n",
       "      <th>predicted</th>\n",
       "      <th>weekday</th>\n",
       "      <th>month</th>\n",
       "    </tr>\n",
       "    <tr>\n",
       "      <th>date</th>\n",
       "      <th></th>\n",
       "      <th></th>\n",
       "      <th></th>\n",
       "      <th></th>\n",
       "      <th></th>\n",
       "      <th></th>\n",
       "      <th></th>\n",
       "    </tr>\n",
       "  </thead>\n",
       "  <tbody>\n",
       "    <tr>\n",
       "      <th>2017-10-01</th>\n",
       "      <td>1</td>\n",
       "      <td>1</td>\n",
       "      <td>21</td>\n",
       "      <td>1734</td>\n",
       "      <td>33.622670</td>\n",
       "      <td>6</td>\n",
       "      <td>10</td>\n",
       "    </tr>\n",
       "    <tr>\n",
       "      <th>2017-10-01</th>\n",
       "      <td>2</td>\n",
       "      <td>1</td>\n",
       "      <td>42</td>\n",
       "      <td>1734</td>\n",
       "      <td>53.337907</td>\n",
       "      <td>6</td>\n",
       "      <td>10</td>\n",
       "    </tr>\n",
       "    <tr>\n",
       "      <th>2017-10-01</th>\n",
       "      <td>3</td>\n",
       "      <td>1</td>\n",
       "      <td>42</td>\n",
       "      <td>1734</td>\n",
       "      <td>45.862209</td>\n",
       "      <td>6</td>\n",
       "      <td>10</td>\n",
       "    </tr>\n",
       "    <tr>\n",
       "      <th>2017-10-01</th>\n",
       "      <td>4</td>\n",
       "      <td>1</td>\n",
       "      <td>32</td>\n",
       "      <td>1734</td>\n",
       "      <td>41.247480</td>\n",
       "      <td>6</td>\n",
       "      <td>10</td>\n",
       "    </tr>\n",
       "    <tr>\n",
       "      <th>2017-10-01</th>\n",
       "      <td>5</td>\n",
       "      <td>1</td>\n",
       "      <td>17</td>\n",
       "      <td>1734</td>\n",
       "      <td>26.153524</td>\n",
       "      <td>6</td>\n",
       "      <td>10</td>\n",
       "    </tr>\n",
       "  </tbody>\n",
       "</table>\n",
       "</div>"
      ],
      "text/plain": [
       "           store item  sales  datevalue  predicted weekday month\n",
       "date                                                            \n",
       "2017-10-01     1    1     21       1734  33.622670       6    10\n",
       "2017-10-01     2    1     42       1734  53.337907       6    10\n",
       "2017-10-01     3    1     42       1734  45.862209       6    10\n",
       "2017-10-01     4    1     32       1734  41.247480       6    10\n",
       "2017-10-01     5    1     17       1734  26.153524       6    10"
      ]
     },
     "execution_count": 103,
     "metadata": {},
     "output_type": "execute_result"
    }
   ],
   "source": [
    "TE3[\"predicted\"] = result_2.predict(TE3)\n",
    "\n",
    "TE3.head()"
   ]
  },
  {
   "cell_type": "code",
   "execution_count": 104,
   "metadata": {},
   "outputs": [
    {
     "data": {
      "text/plain": [
       "'The SMAPE error percentage is 18.35% for the TEST Data'"
      ]
     },
     "execution_count": 104,
     "metadata": {},
     "output_type": "execute_result"
    }
   ],
   "source": [
    "error_2_test, text_2_test = calculate_error(TE3[\"sales\"], TE3[\"predicted\"])\n",
    "text_2_test + \" for the TEST Data\""
   ]
  },
  {
   "cell_type": "code",
   "execution_count": 105,
   "metadata": {},
   "outputs": [
    {
     "data": {
      "text/plain": [
       "<matplotlib.axes._subplots.AxesSubplot at 0x1d58756ebe0>"
      ]
     },
     "execution_count": 105,
     "metadata": {},
     "output_type": "execute_result"
    },
    {
     "data": {
      "image/png": "[encoded data removed]",
      "text/plain": [
       "<Figure size 432x288 with 1 Axes>"
      ]
     },
     "metadata": {},
     "output_type": "display_data"
    }
   ],
   "source": [
    "TE3[(TE3[\"item\"] == 1) & (TE3[\"store\"] == 1)].predicted.plot(marker=\"o\", markersize = 5)\n",
    "TE3[(TE3[\"item\"] == 1) & (TE3[\"store\"] == 1)].sales.plot(marker=\"o\", color = \"r\", linewidth = 0.5, markersize = 2)"
   ]
  },
  {
   "cell_type": "markdown",
   "metadata": {},
   "source": [
    "This model represents the data better, however it is still to general, uses too many degrees of freedom and many dummy variables, becoming something close to a sum of averages."
   ]
  },
  {
   "cell_type": "markdown",
   "metadata": {},
   "source": [
    "## Third model: separate data"
   ]
  },
  {
   "cell_type": "code",
   "execution_count": 106,
   "metadata": {},
   "outputs": [],
   "source": [
    "TD4 = TD3.copy()\n",
    "TE4 = TE3.copy()"
   ]
  },
  {
   "cell_type": "code",
   "execution_count": 107,
   "metadata": {},
   "outputs": [],
   "source": [
    "TD4 = TD4[(TD4[\"item\"] == 1) & (TD4[\"store\"] == 1)]\n",
    "TE4 = TE4[(TE4[\"item\"] == 1) & (TE4[\"store\"] == 1)]"
   ]
  },
  {
   "cell_type": "code",
   "execution_count": 108,
   "metadata": {},
   "outputs": [],
   "source": [
    "model_3 = smf.ols(data = TD4, formula = \"sales ~ datevalue + weekday + month\")\n",
    "\n",
    "result_3 = model_3.fit()"
   ]
  },
  {
   "cell_type": "code",
   "execution_count": 109,
   "metadata": {},
   "outputs": [
    {
     "data": {
      "text/html": [
       "<table class=\"simpletable\">\n",
       "<caption>OLS Regression Results</caption>\n",
       "<tr>\n",
       "  <th>Dep. Variable:</th>          <td>sales</td>      <th>  R-squared:         </th> <td>   0.575</td> \n",
       "</tr>\n",
       "<tr>\n",
       "  <th>Model:</th>                   <td>OLS</td>       <th>  Adj. R-squared:    </th> <td>   0.571</td> \n",
       "</tr>\n",
       "<tr>\n",
       "  <th>Method:</th>             <td>Least Squares</td>  <th>  F-statistic:       </th> <td>   129.1</td> \n",
       "</tr>\n",
       "<tr>\n",
       "  <th>Date:</th>             <td>Mon, 26 Nov 2018</td> <th>  Prob (F-statistic):</th> <td>8.30e-303</td>\n",
       "</tr>\n",
       "<tr>\n",
       "  <th>Time:</th>                 <td>16:43:19</td>     <th>  Log-Likelihood:    </th> <td> -5037.5</td> \n",
       "</tr>\n",
       "<tr>\n",
       "  <th>No. Observations:</th>      <td>  1734</td>      <th>  AIC:               </th> <td>1.011e+04</td>\n",
       "</tr>\n",
       "<tr>\n",
       "  <th>Df Residuals:</th>          <td>  1715</td>      <th>  BIC:               </th> <td>1.022e+04</td>\n",
       "</tr>\n",
       "<tr>\n",
       "  <th>Df Model:</th>              <td>    18</td>      <th>                     </th>     <td> </td>    \n",
       "</tr>\n",
       "<tr>\n",
       "  <th>Covariance Type:</th>      <td>nonrobust</td>    <th>                     </th>     <td> </td>    \n",
       "</tr>\n",
       "</table>\n",
       "<table class=\"simpletable\">\n",
       "<tr>\n",
       "        <td></td>          <th>coef</th>     <th>std err</th>      <th>t</th>      <th>P>|t|</th>  <th>[0.025</th>    <th>0.975]</th>  \n",
       "</tr>\n",
       "<tr>\n",
       "  <th>Intercept</th>    <td>    6.1878</td> <td>    0.472</td> <td>   13.106</td> <td> 0.000</td> <td>    5.262</td> <td>    7.114</td>\n",
       "</tr>\n",
       "<tr>\n",
       "  <th>weekday[T.1]</th> <td>    2.6433</td> <td>    0.400</td> <td>    6.615</td> <td> 0.000</td> <td>    1.860</td> <td>    3.427</td>\n",
       "</tr>\n",
       "<tr>\n",
       "  <th>weekday[T.2]</th> <td>    3.2921</td> <td>    0.400</td> <td>    8.239</td> <td> 0.000</td> <td>    2.508</td> <td>    4.076</td>\n",
       "</tr>\n",
       "<tr>\n",
       "  <th>weekday[T.3]</th> <td>    3.8948</td> <td>    0.400</td> <td>    9.747</td> <td> 0.000</td> <td>    3.111</td> <td>    4.679</td>\n",
       "</tr>\n",
       "<tr>\n",
       "  <th>weekday[T.4]</th> <td>    5.6081</td> <td>    0.400</td> <td>   14.035</td> <td> 0.000</td> <td>    4.824</td> <td>    6.392</td>\n",
       "</tr>\n",
       "<tr>\n",
       "  <th>weekday[T.5]</th> <td>    7.3306</td> <td>    0.400</td> <td>   18.346</td> <td> 0.000</td> <td>    6.547</td> <td>    8.114</td>\n",
       "</tr>\n",
       "<tr>\n",
       "  <th>weekday[T.6]</th> <td>    8.1699</td> <td>    0.400</td> <td>   20.426</td> <td> 0.000</td> <td>    7.385</td> <td>    8.954</td>\n",
       "</tr>\n",
       "<tr>\n",
       "  <th>month[T.2]</th>   <td>    0.8531</td> <td>    0.517</td> <td>    1.649</td> <td> 0.099</td> <td>   -0.162</td> <td>    1.868</td>\n",
       "</tr>\n",
       "<tr>\n",
       "  <th>month[T.3]</th>   <td>    3.6551</td> <td>    0.505</td> <td>    7.237</td> <td> 0.000</td> <td>    2.664</td> <td>    4.646</td>\n",
       "</tr>\n",
       "<tr>\n",
       "  <th>month[T.4]</th>   <td>    6.7403</td> <td>    0.509</td> <td>   13.230</td> <td> 0.000</td> <td>    5.741</td> <td>    7.740</td>\n",
       "</tr>\n",
       "<tr>\n",
       "  <th>month[T.5]</th>   <td>    8.0655</td> <td>    0.506</td> <td>   15.954</td> <td> 0.000</td> <td>    7.074</td> <td>    9.057</td>\n",
       "</tr>\n",
       "<tr>\n",
       "  <th>month[T.6]</th>   <td>   10.5437</td> <td>    0.510</td> <td>   20.669</td> <td> 0.000</td> <td>    9.543</td> <td>   11.544</td>\n",
       "</tr>\n",
       "<tr>\n",
       "  <th>month[T.7]</th>   <td>   11.5518</td> <td>    0.506</td> <td>   22.811</td> <td> 0.000</td> <td>   10.559</td> <td>   12.545</td>\n",
       "</tr>\n",
       "<tr>\n",
       "  <th>month[T.8]</th>   <td>    7.9594</td> <td>    0.507</td> <td>   15.700</td> <td> 0.000</td> <td>    6.965</td> <td>    8.954</td>\n",
       "</tr>\n",
       "<tr>\n",
       "  <th>month[T.9]</th>   <td>    6.7436</td> <td>    0.512</td> <td>   13.177</td> <td> 0.000</td> <td>    5.740</td> <td>    7.747</td>\n",
       "</tr>\n",
       "<tr>\n",
       "  <th>month[T.10]</th>  <td>    5.1685</td> <td>    0.536</td> <td>    9.645</td> <td> 0.000</td> <td>    4.117</td> <td>    6.220</td>\n",
       "</tr>\n",
       "<tr>\n",
       "  <th>month[T.11]</th>  <td>    6.9063</td> <td>    0.541</td> <td>   12.763</td> <td> 0.000</td> <td>    5.845</td> <td>    7.968</td>\n",
       "</tr>\n",
       "<tr>\n",
       "  <th>month[T.12]</th>  <td>   -0.0863</td> <td>    0.537</td> <td>   -0.161</td> <td> 0.872</td> <td>   -1.139</td> <td>    0.966</td>\n",
       "</tr>\n",
       "<tr>\n",
       "  <th>datevalue</th>    <td>    0.0041</td> <td>    0.000</td> <td>   19.124</td> <td> 0.000</td> <td>    0.004</td> <td>    0.005</td>\n",
       "</tr>\n",
       "</table>\n",
       "<table class=\"simpletable\">\n",
       "<tr>\n",
       "  <th>Omnibus:</th>       <td>24.926</td> <th>  Durbin-Watson:     </th> <td>   1.953</td>\n",
       "</tr>\n",
       "<tr>\n",
       "  <th>Prob(Omnibus):</th> <td> 0.000</td> <th>  Jarque-Bera (JB):  </th> <td>  28.281</td>\n",
       "</tr>\n",
       "<tr>\n",
       "  <th>Skew:</th>          <td> 0.236</td> <th>  Prob(JB):          </th> <td>7.22e-07</td>\n",
       "</tr>\n",
       "<tr>\n",
       "  <th>Kurtosis:</th>      <td> 3.411</td> <th>  Cond. No.          </th> <td>1.21e+04</td>\n",
       "</tr>\n",
       "</table><br/><br/>Warnings:<br/>[1] Standard Errors assume that the covariance matrix of the errors is correctly specified.<br/>[2] The condition number is large, 1.21e+04. This might indicate that there are<br/>strong multicollinearity or other numerical problems."
      ],
      "text/plain": [
       "<class 'statsmodels.iolib.summary.Summary'>\n",
       "\"\"\"\n",
       "                            OLS Regression Results                            \n",
       "==============================================================================\n",
       "Dep. Variable:                  sales   R-squared:                       0.575\n",
       "Model:                            OLS   Adj. R-squared:                  0.571\n",
       "Method:                 Least Squares   F-statistic:                     129.1\n",
       "Date:                Mon, 26 Nov 2018   Prob (F-statistic):          8.30e-303\n",
       "Time:                        16:43:19   Log-Likelihood:                -5037.5\n",
       "No. Observations:                1734   AIC:                         1.011e+04\n",
       "Df Residuals:                    1715   BIC:                         1.022e+04\n",
       "Df Model:                          18                                         \n",
       "Covariance Type:            nonrobust                                         \n",
       "================================================================================\n",
       "                   coef    std err          t      P>|t|      [0.025      0.975]\n",
       "--------------------------------------------------------------------------------\n",
       "Intercept        6.1878      0.472     13.106      0.000       5.262       7.114\n",
       "weekday[T.1]     2.6433      0.400      6.615      0.000       1.860       3.427\n",
       "weekday[T.2]     3.2921      0.400      8.239      0.000       2.508       4.076\n",
       "weekday[T.3]     3.8948      0.400      9.747      0.000       3.111       4.679\n",
       "weekday[T.4]     5.6081      0.400     14.035      0.000       4.824       6.392\n",
       "weekday[T.5]     7.3306      0.400     18.346      0.000       6.547       8.114\n",
       "weekday[T.6]     8.1699      0.400     20.426      0.000       7.385       8.954\n",
       "month[T.2]       0.8531      0.517      1.649      0.099      -0.162       1.868\n",
       "month[T.3]       3.6551      0.505      7.237      0.000       2.664       4.646\n",
       "month[T.4]       6.7403      0.509     13.230      0.000       5.741       7.740\n",
       "month[T.5]       8.0655      0.506     15.954      0.000       7.074       9.057\n",
       "month[T.6]      10.5437      0.510     20.669      0.000       9.543      11.544\n",
       "month[T.7]      11.5518      0.506     22.811      0.000      10.559      12.545\n",
       "month[T.8]       7.9594      0.507     15.700      0.000       6.965       8.954\n",
       "month[T.9]       6.7436      0.512     13.177      0.000       5.740       7.747\n",
       "month[T.10]      5.1685      0.536      9.645      0.000       4.117       6.220\n",
       "month[T.11]      6.9063      0.541     12.763      0.000       5.845       7.968\n",
       "month[T.12]     -0.0863      0.537     -0.161      0.872      -1.139       0.966\n",
       "datevalue        0.0041      0.000     19.124      0.000       0.004       0.005\n",
       "==============================================================================\n",
       "Omnibus:                       24.926   Durbin-Watson:                   1.953\n",
       "Prob(Omnibus):                  0.000   Jarque-Bera (JB):               28.281\n",
       "Skew:                           0.236   Prob(JB):                     7.22e-07\n",
       "Kurtosis:                       3.411   Cond. No.                     1.21e+04\n",
       "==============================================================================\n",
       "\n",
       "Warnings:\n",
       "[1] Standard Errors assume that the covariance matrix of the errors is correctly specified.\n",
       "[2] The condition number is large, 1.21e+04. This might indicate that there are\n",
       "strong multicollinearity or other numerical problems.\n",
       "\"\"\""
      ]
     },
     "execution_count": 109,
     "metadata": {},
     "output_type": "execute_result"
    }
   ],
   "source": [
    "result_3.summary()"
   ]
  },
  {
   "cell_type": "code",
   "execution_count": 110,
   "metadata": {},
   "outputs": [
    {
     "data": {
      "text/html": [
       "<div>\n",
       "<style scoped>\n",
       "    .dataframe tbody tr th:only-of-type {\n",
       "        vertical-align: middle;\n",
       "    }\n",
       "\n",
       "    .dataframe tbody tr th {\n",
       "        vertical-align: top;\n",
       "    }\n",
       "\n",
       "    .dataframe thead th {\n",
       "        text-align: right;\n",
       "    }\n",
       "</style>\n",
       "<table border=\"1\" class=\"dataframe\">\n",
       "  <thead>\n",
       "    <tr style=\"text-align: right;\">\n",
       "      <th></th>\n",
       "      <th>store</th>\n",
       "      <th>item</th>\n",
       "      <th>sales</th>\n",
       "      <th>datevalue</th>\n",
       "      <th>predicted</th>\n",
       "      <th>weekday</th>\n",
       "      <th>month</th>\n",
       "    </tr>\n",
       "    <tr>\n",
       "      <th>date</th>\n",
       "      <th></th>\n",
       "      <th></th>\n",
       "      <th></th>\n",
       "      <th></th>\n",
       "      <th></th>\n",
       "      <th></th>\n",
       "      <th></th>\n",
       "    </tr>\n",
       "  </thead>\n",
       "  <tbody>\n",
       "    <tr>\n",
       "      <th>2013-01-01</th>\n",
       "      <td>1</td>\n",
       "      <td>1</td>\n",
       "      <td>13</td>\n",
       "      <td>0</td>\n",
       "      <td>8.831112</td>\n",
       "      <td>1</td>\n",
       "      <td>1</td>\n",
       "    </tr>\n",
       "    <tr>\n",
       "      <th>2013-01-02</th>\n",
       "      <td>1</td>\n",
       "      <td>1</td>\n",
       "      <td>11</td>\n",
       "      <td>1</td>\n",
       "      <td>9.484083</td>\n",
       "      <td>2</td>\n",
       "      <td>1</td>\n",
       "    </tr>\n",
       "    <tr>\n",
       "      <th>2013-01-03</th>\n",
       "      <td>1</td>\n",
       "      <td>1</td>\n",
       "      <td>14</td>\n",
       "      <td>2</td>\n",
       "      <td>10.090882</td>\n",
       "      <td>3</td>\n",
       "      <td>1</td>\n",
       "    </tr>\n",
       "    <tr>\n",
       "      <th>2013-01-04</th>\n",
       "      <td>1</td>\n",
       "      <td>1</td>\n",
       "      <td>13</td>\n",
       "      <td>3</td>\n",
       "      <td>11.808263</td>\n",
       "      <td>4</td>\n",
       "      <td>1</td>\n",
       "    </tr>\n",
       "    <tr>\n",
       "      <th>2013-01-05</th>\n",
       "      <td>1</td>\n",
       "      <td>1</td>\n",
       "      <td>10</td>\n",
       "      <td>4</td>\n",
       "      <td>13.534889</td>\n",
       "      <td>5</td>\n",
       "      <td>1</td>\n",
       "    </tr>\n",
       "  </tbody>\n",
       "</table>\n",
       "</div>"
      ],
      "text/plain": [
       "           store item  sales  datevalue  predicted weekday month\n",
       "date                                                            \n",
       "2013-01-01     1    1     13          0   8.831112       1     1\n",
       "2013-01-02     1    1     11          1   9.484083       2     1\n",
       "2013-01-03     1    1     14          2  10.090882       3     1\n",
       "2013-01-04     1    1     13          3  11.808263       4     1\n",
       "2013-01-05     1    1     10          4  13.534889       5     1"
      ]
     },
     "execution_count": 110,
     "metadata": {},
     "output_type": "execute_result"
    }
   ],
   "source": [
    "TD4[\"predicted\"] = result_3.predict(TD4)\n",
    "\n",
    "TD4.head()"
   ]
  },
  {
   "cell_type": "code",
   "execution_count": 111,
   "metadata": {},
   "outputs": [
    {
     "data": {
      "text/plain": [
       "'The SMAPE error percentage is 18.67% for the TRAIN Data'"
      ]
     },
     "execution_count": 111,
     "metadata": {},
     "output_type": "execute_result"
    }
   ],
   "source": [
    "error_3, text_3 = calculate_error(TD4[\"sales\"], TD4[\"predicted\"])\n",
    "text_3 + \" for the TRAIN Data\""
   ]
  },
  {
   "cell_type": "code",
   "execution_count": 112,
   "metadata": {},
   "outputs": [
    {
     "data": {
      "text/plain": [
       "<matplotlib.axes._subplots.AxesSubplot at 0x1d5808c19e8>"
      ]
     },
     "execution_count": 112,
     "metadata": {},
     "output_type": "execute_result"
    },
    {
     "data": {
      "image/png": "[encoded data removed]",
      "text/plain": [
       "<Figure size 432x288 with 1 Axes>"
      ]
     },
     "metadata": {},
     "output_type": "display_data"
    }
   ],
   "source": [
    "TD4.predicted.plot(marker=\"o\", markersize = 5)\n",
    "TD4.sales.plot(marker=\"o\", color = \"r\", linewidth = 0.5, markersize = 2)"
   ]
  },
  {
   "cell_type": "code",
   "execution_count": 113,
   "metadata": {},
   "outputs": [
    {
     "ename": "ValueError",
     "evalue": "new categories must not include old categories: {1, 2, 3, 4, 5, 6, 7, 8, 9}",
     "output_type": "error",
     "traceback": [
      "\u001b[1;31m---------------------------------------------------------------------------\u001b[0m",
      "\u001b[1;31mValueError\u001b[0m                                Traceback (most recent call last)",
      "\u001b[1;32m<ipython-input-113-3eb505fff60b>\u001b[0m in \u001b[0;36m<module>\u001b[1;34m()\u001b[0m\n\u001b[1;32m----> 1\u001b[1;33m \u001b[0mTE4\u001b[0m\u001b[1;33m[\u001b[0m\u001b[1;34m\"month\"\u001b[0m\u001b[1;33m]\u001b[0m \u001b[1;33m=\u001b[0m \u001b[0mpd\u001b[0m\u001b[1;33m.\u001b[0m\u001b[0mSeries\u001b[0m\u001b[1;33m(\u001b[0m\u001b[0mTE4\u001b[0m\u001b[1;33m[\u001b[0m\u001b[1;34m\"month\"\u001b[0m\u001b[1;33m]\u001b[0m\u001b[1;33m,\u001b[0m \u001b[0mdtype\u001b[0m \u001b[1;33m=\u001b[0m \u001b[1;34m\"category\"\u001b[0m\u001b[1;33m)\u001b[0m\u001b[1;33m.\u001b[0m\u001b[0mcat\u001b[0m\u001b[1;33m.\u001b[0m\u001b[0madd_categories\u001b[0m\u001b[1;33m(\u001b[0m\u001b[1;33m[\u001b[0m\u001b[1;36m1\u001b[0m\u001b[1;33m,\u001b[0m \u001b[1;36m2\u001b[0m\u001b[1;33m,\u001b[0m \u001b[1;36m3\u001b[0m \u001b[1;33m,\u001b[0m \u001b[1;36m4\u001b[0m\u001b[1;33m,\u001b[0m \u001b[1;36m5\u001b[0m\u001b[1;33m,\u001b[0m \u001b[1;36m6\u001b[0m\u001b[1;33m,\u001b[0m \u001b[1;36m7\u001b[0m\u001b[1;33m,\u001b[0m \u001b[1;36m8\u001b[0m\u001b[1;33m,\u001b[0m \u001b[1;36m9\u001b[0m\u001b[1;33m]\u001b[0m\u001b[1;33m)\u001b[0m\u001b[1;33m\u001b[0m\u001b[0m\n\u001b[0m\u001b[0;32m      2\u001b[0m \u001b[0mTE4\u001b[0m\u001b[1;33m[\u001b[0m\u001b[1;34m\"month\"\u001b[0m\u001b[1;33m]\u001b[0m \u001b[1;33m=\u001b[0m \u001b[0mTE4\u001b[0m\u001b[1;33m[\u001b[0m\u001b[1;34m\"month\"\u001b[0m\u001b[1;33m]\u001b[0m\u001b[1;33m.\u001b[0m\u001b[0mcat\u001b[0m\u001b[1;33m.\u001b[0m\u001b[0mreorder_categories\u001b[0m\u001b[1;33m(\u001b[0m\u001b[1;33m[\u001b[0m\u001b[1;36m1\u001b[0m\u001b[1;33m,\u001b[0m\u001b[1;36m2\u001b[0m\u001b[1;33m,\u001b[0m\u001b[1;36m3\u001b[0m\u001b[1;33m,\u001b[0m\u001b[1;36m4\u001b[0m\u001b[1;33m,\u001b[0m\u001b[1;36m5\u001b[0m\u001b[1;33m,\u001b[0m\u001b[1;36m6\u001b[0m\u001b[1;33m,\u001b[0m\u001b[1;36m7\u001b[0m\u001b[1;33m,\u001b[0m\u001b[1;36m8\u001b[0m\u001b[1;33m,\u001b[0m\u001b[1;36m9\u001b[0m\u001b[1;33m,\u001b[0m\u001b[1;36m10\u001b[0m\u001b[1;33m,\u001b[0m\u001b[1;36m11\u001b[0m\u001b[1;33m,\u001b[0m\u001b[1;36m12\u001b[0m\u001b[1;33m]\u001b[0m\u001b[1;33m)\u001b[0m\u001b[1;33m\u001b[0m\u001b[0m\n\u001b[0;32m      3\u001b[0m \u001b[0mTE4\u001b[0m\u001b[1;33m[\u001b[0m\u001b[1;34m\"month\"\u001b[0m\u001b[1;33m]\u001b[0m\u001b[1;33m.\u001b[0m\u001b[0mcat\u001b[0m\u001b[1;33m.\u001b[0m\u001b[0mcategories\u001b[0m\u001b[1;33m\u001b[0m\u001b[0m\n",
      "\u001b[1;32m~\\Anaconda3\\lib\\site-packages\\pandas\\core\\accessor.py\u001b[0m in \u001b[0;36mf\u001b[1;34m(self, *args, **kwargs)\u001b[0m\n\u001b[0;32m     86\u001b[0m \u001b[1;33m\u001b[0m\u001b[0m\n\u001b[0;32m     87\u001b[0m             \u001b[1;32mdef\u001b[0m \u001b[0mf\u001b[0m\u001b[1;33m(\u001b[0m\u001b[0mself\u001b[0m\u001b[1;33m,\u001b[0m \u001b[1;33m*\u001b[0m\u001b[0margs\u001b[0m\u001b[1;33m,\u001b[0m \u001b[1;33m**\u001b[0m\u001b[0mkwargs\u001b[0m\u001b[1;33m)\u001b[0m\u001b[1;33m:\u001b[0m\u001b[1;33m\u001b[0m\u001b[0m\n\u001b[1;32m---> 88\u001b[1;33m                 \u001b[1;32mreturn\u001b[0m \u001b[0mself\u001b[0m\u001b[1;33m.\u001b[0m\u001b[0m_delegate_method\u001b[0m\u001b[1;33m(\u001b[0m\u001b[0mname\u001b[0m\u001b[1;33m,\u001b[0m \u001b[1;33m*\u001b[0m\u001b[0margs\u001b[0m\u001b[1;33m,\u001b[0m \u001b[1;33m**\u001b[0m\u001b[0mkwargs\u001b[0m\u001b[1;33m)\u001b[0m\u001b[1;33m\u001b[0m\u001b[0m\n\u001b[0m\u001b[0;32m     89\u001b[0m \u001b[1;33m\u001b[0m\u001b[0m\n\u001b[0;32m     90\u001b[0m             \u001b[0mf\u001b[0m\u001b[1;33m.\u001b[0m\u001b[0m__name__\u001b[0m \u001b[1;33m=\u001b[0m \u001b[0mname\u001b[0m\u001b[1;33m\u001b[0m\u001b[0m\n",
      "\u001b[1;32m~\\Anaconda3\\lib\\site-packages\\pandas\\core\\arrays\\categorical.py\u001b[0m in \u001b[0;36m_delegate_method\u001b[1;34m(self, name, *args, **kwargs)\u001b[0m\n\u001b[0;32m   2401\u001b[0m         \u001b[1;32mfrom\u001b[0m \u001b[0mpandas\u001b[0m \u001b[1;32mimport\u001b[0m \u001b[0mSeries\u001b[0m\u001b[1;33m\u001b[0m\u001b[0m\n\u001b[0;32m   2402\u001b[0m         \u001b[0mmethod\u001b[0m \u001b[1;33m=\u001b[0m \u001b[0mgetattr\u001b[0m\u001b[1;33m(\u001b[0m\u001b[0mself\u001b[0m\u001b[1;33m.\u001b[0m\u001b[0mcategorical\u001b[0m\u001b[1;33m,\u001b[0m \u001b[0mname\u001b[0m\u001b[1;33m)\u001b[0m\u001b[1;33m\u001b[0m\u001b[0m\n\u001b[1;32m-> 2403\u001b[1;33m         \u001b[0mres\u001b[0m \u001b[1;33m=\u001b[0m \u001b[0mmethod\u001b[0m\u001b[1;33m(\u001b[0m\u001b[1;33m*\u001b[0m\u001b[0margs\u001b[0m\u001b[1;33m,\u001b[0m \u001b[1;33m**\u001b[0m\u001b[0mkwargs\u001b[0m\u001b[1;33m)\u001b[0m\u001b[1;33m\u001b[0m\u001b[0m\n\u001b[0m\u001b[0;32m   2404\u001b[0m         \u001b[1;32mif\u001b[0m \u001b[0mres\u001b[0m \u001b[1;32mis\u001b[0m \u001b[1;32mnot\u001b[0m \u001b[1;32mNone\u001b[0m\u001b[1;33m:\u001b[0m\u001b[1;33m\u001b[0m\u001b[0m\n\u001b[0;32m   2405\u001b[0m             \u001b[1;32mreturn\u001b[0m \u001b[0mSeries\u001b[0m\u001b[1;33m(\u001b[0m\u001b[0mres\u001b[0m\u001b[1;33m,\u001b[0m \u001b[0mindex\u001b[0m\u001b[1;33m=\u001b[0m\u001b[0mself\u001b[0m\u001b[1;33m.\u001b[0m\u001b[0mindex\u001b[0m\u001b[1;33m,\u001b[0m \u001b[0mname\u001b[0m\u001b[1;33m=\u001b[0m\u001b[0mself\u001b[0m\u001b[1;33m.\u001b[0m\u001b[0mname\u001b[0m\u001b[1;33m)\u001b[0m\u001b[1;33m\u001b[0m\u001b[0m\n",
      "\u001b[1;32m~\\Anaconda3\\lib\\site-packages\\pandas\\core\\arrays\\categorical.py\u001b[0m in \u001b[0;36madd_categories\u001b[1;34m(self, new_categories, inplace)\u001b[0m\n\u001b[0;32m   1021\u001b[0m             msg = (\"new categories must not include old categories: \"\n\u001b[0;32m   1022\u001b[0m                    \"{already_included!s}\")\n\u001b[1;32m-> 1023\u001b[1;33m             \u001b[1;32mraise\u001b[0m \u001b[0mValueError\u001b[0m\u001b[1;33m(\u001b[0m\u001b[0mmsg\u001b[0m\u001b[1;33m.\u001b[0m\u001b[0mformat\u001b[0m\u001b[1;33m(\u001b[0m\u001b[0malready_included\u001b[0m\u001b[1;33m=\u001b[0m\u001b[0malready_included\u001b[0m\u001b[1;33m)\u001b[0m\u001b[1;33m)\u001b[0m\u001b[1;33m\u001b[0m\u001b[0m\n\u001b[0m\u001b[0;32m   1024\u001b[0m         \u001b[0mnew_categories\u001b[0m \u001b[1;33m=\u001b[0m \u001b[0mlist\u001b[0m\u001b[1;33m(\u001b[0m\u001b[0mself\u001b[0m\u001b[1;33m.\u001b[0m\u001b[0mdtype\u001b[0m\u001b[1;33m.\u001b[0m\u001b[0mcategories\u001b[0m\u001b[1;33m)\u001b[0m \u001b[1;33m+\u001b[0m \u001b[0mlist\u001b[0m\u001b[1;33m(\u001b[0m\u001b[0mnew_categories\u001b[0m\u001b[1;33m)\u001b[0m\u001b[1;33m\u001b[0m\u001b[0m\n\u001b[0;32m   1025\u001b[0m         \u001b[0mnew_dtype\u001b[0m \u001b[1;33m=\u001b[0m \u001b[0mCategoricalDtype\u001b[0m\u001b[1;33m(\u001b[0m\u001b[0mnew_categories\u001b[0m\u001b[1;33m,\u001b[0m \u001b[0mself\u001b[0m\u001b[1;33m.\u001b[0m\u001b[0mordered\u001b[0m\u001b[1;33m)\u001b[0m\u001b[1;33m\u001b[0m\u001b[0m\n",
      "\u001b[1;31mValueError\u001b[0m: new categories must not include old categories: {1, 2, 3, 4, 5, 6, 7, 8, 9}"
     ]
    }
   ],
   "source": [
    "TE4[\"month\"] = pd.Series(TE4[\"month\"], dtype = \"category\").cat.add_categories([1, 2, 3 , 4, 5, 6, 7, 8, 9])\n",
    "TE4[\"month\"] = TE4[\"month\"].cat.reorder_categories([1,2,3,4,5,6,7,8,9,10,11,12])\n",
    "TE4[\"month\"].cat.categories"
   ]
  },
  {
   "cell_type": "code",
   "execution_count": 114,
   "metadata": {},
   "outputs": [
    {
     "data": {
      "text/html": [
       "<div>\n",
       "<style scoped>\n",
       "    .dataframe tbody tr th:only-of-type {\n",
       "        vertical-align: middle;\n",
       "    }\n",
       "\n",
       "    .dataframe tbody tr th {\n",
       "        vertical-align: top;\n",
       "    }\n",
       "\n",
       "    .dataframe thead th {\n",
       "        text-align: right;\n",
       "    }\n",
       "</style>\n",
       "<table border=\"1\" class=\"dataframe\">\n",
       "  <thead>\n",
       "    <tr style=\"text-align: right;\">\n",
       "      <th></th>\n",
       "      <th>store</th>\n",
       "      <th>item</th>\n",
       "      <th>sales</th>\n",
       "      <th>datevalue</th>\n",
       "      <th>predicted</th>\n",
       "      <th>weekday</th>\n",
       "      <th>month</th>\n",
       "    </tr>\n",
       "    <tr>\n",
       "      <th>date</th>\n",
       "      <th></th>\n",
       "      <th></th>\n",
       "      <th></th>\n",
       "      <th></th>\n",
       "      <th></th>\n",
       "      <th></th>\n",
       "      <th></th>\n",
       "    </tr>\n",
       "  </thead>\n",
       "  <tbody>\n",
       "    <tr>\n",
       "      <th>2017-10-01</th>\n",
       "      <td>1</td>\n",
       "      <td>1</td>\n",
       "      <td>21</td>\n",
       "      <td>1734</td>\n",
       "      <td>26.668033</td>\n",
       "      <td>6</td>\n",
       "      <td>10</td>\n",
       "    </tr>\n",
       "    <tr>\n",
       "      <th>2017-10-02</th>\n",
       "      <td>1</td>\n",
       "      <td>1</td>\n",
       "      <td>12</td>\n",
       "      <td>1735</td>\n",
       "      <td>18.502248</td>\n",
       "      <td>0</td>\n",
       "      <td>10</td>\n",
       "    </tr>\n",
       "    <tr>\n",
       "      <th>2017-10-03</th>\n",
       "      <td>1</td>\n",
       "      <td>1</td>\n",
       "      <td>18</td>\n",
       "      <td>1736</td>\n",
       "      <td>21.149664</td>\n",
       "      <td>1</td>\n",
       "      <td>10</td>\n",
       "    </tr>\n",
       "    <tr>\n",
       "      <th>2017-10-04</th>\n",
       "      <td>1</td>\n",
       "      <td>1</td>\n",
       "      <td>15</td>\n",
       "      <td>1737</td>\n",
       "      <td>21.802635</td>\n",
       "      <td>2</td>\n",
       "      <td>10</td>\n",
       "    </tr>\n",
       "    <tr>\n",
       "      <th>2017-10-05</th>\n",
       "      <td>1</td>\n",
       "      <td>1</td>\n",
       "      <td>20</td>\n",
       "      <td>1738</td>\n",
       "      <td>22.409434</td>\n",
       "      <td>3</td>\n",
       "      <td>10</td>\n",
       "    </tr>\n",
       "  </tbody>\n",
       "</table>\n",
       "</div>"
      ],
      "text/plain": [
       "           store item  sales  datevalue  predicted weekday month\n",
       "date                                                            \n",
       "2017-10-01     1    1     21       1734  26.668033       6    10\n",
       "2017-10-02     1    1     12       1735  18.502248       0    10\n",
       "2017-10-03     1    1     18       1736  21.149664       1    10\n",
       "2017-10-04     1    1     15       1737  21.802635       2    10\n",
       "2017-10-05     1    1     20       1738  22.409434       3    10"
      ]
     },
     "execution_count": 114,
     "metadata": {},
     "output_type": "execute_result"
    }
   ],
   "source": [
    "TE4[\"predicted\"] = result_3.predict(TE4)\n",
    "TE4.head()"
   ]
  },
  {
   "cell_type": "code",
   "execution_count": 115,
   "metadata": {},
   "outputs": [
    {
     "data": {
      "text/plain": [
       "'The SMAPE error percentage is 20.6% for the TEST Data'"
      ]
     },
     "execution_count": 115,
     "metadata": {},
     "output_type": "execute_result"
    }
   ],
   "source": [
    "error_3_test, text_3_test = calculate_error(TE4[\"sales\"], TE4[\"predicted\"])\n",
    "text_3_test + \" for the TEST Data\""
   ]
  },
  {
   "cell_type": "code",
   "execution_count": 116,
   "metadata": {},
   "outputs": [
    {
     "data": {
      "text/plain": [
       "<matplotlib.axes._subplots.AxesSubplot at 0x1d5809c4978>"
      ]
     },
     "execution_count": 116,
     "metadata": {},
     "output_type": "execute_result"
    },
    {
     "data": {
      "image/png": "[encoded data removed]",
      "text/plain": [
       "<Figure size 432x288 with 1 Axes>"
      ]
     },
     "metadata": {},
     "output_type": "display_data"
    }
   ],
   "source": [
    "TE4.predicted.plot(marker=\"o\", markersize = 5)\n",
    "TE4.sales.plot(marker=\"o\", color = \"r\", linewidth = 0.5, markersize = 2)"
   ]
  },
  {
   "cell_type": "markdown",
   "metadata": {},
   "source": [
    "Now, if we were to analyze how good are Linear Models to each item:"
   ]
  },
  {
   "cell_type": "code",
   "execution_count": 117,
   "metadata": {},
   "outputs": [],
   "source": [
    "TrainErrors = []\n",
    "TestErrors = []\n",
    "\n",
    "for i in range(1,51):    \n",
    "    for s in range(1,11):\n",
    "        TDM = TD3.copy()\n",
    "        TEM = TE3.copy()\n",
    "\n",
    "        TDM = TDM[(TDM[\"item\"] == i) & (TDM[\"store\"] == s)]\n",
    "        TEM = TEM[(TEM[\"item\"] == i) & (TEM[\"store\"] == s)]\n",
    "\n",
    "        model_M = smf.ols(data = TDM, formula = \"sales ~ datevalue + weekday + month\").fit()\n",
    "        TDM[\"predicted\"] = model_M.predict(TDM)\n",
    "\n",
    "        error_M, text_M = calculate_error(TDM[\"sales\"], TDM[\"predicted\"])\n",
    "        #print(text_M, \" for the store\", str(s), \"and item\", str(i), \"for TRAIN set\")\n",
    "        TrainErrors.append(error_M)\n",
    "        \n",
    "        #TEM[\"month\"] = pd.Series(TEM[\"month\"], dtype = \"category\").cat.add_categories([1, 2, 3 , 4, 5, 6, 7, 8, 9])\n",
    "        #TEM[\"month\"] = TEM[\"month\"].cat.reorder_categories([1,2,3,4,5,6,7,8,9,10,11,12])\n",
    "        #TEM[\"month\"].cat.categories\n",
    "        \n",
    "        TEM[\"predicted\"] = model_M.predict(TEM)\n",
    "        error_M_test, text_M_test = calculate_error(TEM[\"sales\"], TEM[\"predicted\"])\n",
    "        #print(text_M_test, \" for the store\", str(s), \"and item\", str(i), \"for TEST set\")\n",
    "        TestErrors.append(error_M_test)"
   ]
  },
  {
   "cell_type": "code",
   "execution_count": 118,
   "metadata": {},
   "outputs": [
    {
     "data": {
      "text/plain": [
       "{'whiskers': [<matplotlib.lines.Line2D at 0x1d580a71080>,\n",
       "  <matplotlib.lines.Line2D at 0x1d580a71518>,\n",
       "  <matplotlib.lines.Line2D at 0x1d580a79e48>,\n",
       "  <matplotlib.lines.Line2D at 0x1d580a832b0>],\n",
       " 'caps': [<matplotlib.lines.Line2D at 0x1d580a71940>,\n",
       "  <matplotlib.lines.Line2D at 0x1d580a71d68>,\n",
       "  <matplotlib.lines.Line2D at 0x1d580a836d8>,\n",
       "  <matplotlib.lines.Line2D at 0x1d580a83b00>],\n",
       " 'boxes': [<matplotlib.lines.Line2D at 0x1d580a69ef0>,\n",
       "  <matplotlib.lines.Line2D at 0x1d580a799e8>],\n",
       " 'medians': [<matplotlib.lines.Line2D at 0x1d580a791d0>,\n",
       "  <matplotlib.lines.Line2D at 0x1d580a83f28>],\n",
       " 'fliers': [<matplotlib.lines.Line2D at 0x1d580a795f8>,\n",
       "  <matplotlib.lines.Line2D at 0x1d580a8a390>],\n",
       " 'means': []}"
      ]
     },
     "execution_count": 118,
     "metadata": {},
     "output_type": "execute_result"
    },
    {
     "data": {
      "image/png": "[encoded data removed]",
      "text/plain": [
       "<Figure size 432x288 with 1 Axes>"
      ]
     },
     "metadata": {},
     "output_type": "display_data"
    }
   ],
   "source": [
    "plt.figure()\n",
    "plt.boxplot([TrainErrors, TestErrors], 0, 'gD', labels = [\"Train Error\", \"Test Error\"])"
   ]
  },
  {
   "cell_type": "code",
   "execution_count": 242,
   "metadata": {},
   "outputs": [
    {
     "data": {
      "text/plain": [
       "<matplotlib.axes._subplots.AxesSubplot at 0x1d5861ce048>"
      ]
     },
     "execution_count": 242,
     "metadata": {},
     "output_type": "execute_result"
    },
    {
     "data": {
      "image/png": "[encoded data removed]",
      "text/plain": [
       "<Figure size 432x288 with 2 Axes>"
      ]
     },
     "metadata": {},
     "output_type": "display_data"
    }
   ],
   "source": [
    "CorDF = TD3.copy()\n",
    "\n",
    "CorDF = CorDF.loc[:,[\"sales\", \"item\", \"store\"]]\n",
    "\n",
    "CorDF = CorDF[CorDF[\"store\"] == 1].loc[:,[\"sales\", \"item\"]].pivot(columns = \"item\")\n",
    "\n",
    "sns.heatmap(CorDF.corr().iloc[:10,:10])"
   ]
  },
  {
   "cell_type": "markdown",
   "metadata": {},
   "source": [
    "## Alternative Model: Gradient Boosting"
   ]
  },
  {
   "cell_type": "code",
   "execution_count": 174,
   "metadata": {},
   "outputs": [],
   "source": [
    "from sklearn.ensemble import GradientBoostingRegressor\n",
    "\n",
    "\n",
    "TDG = TD3.copy()\n",
    "TEG = TE3.copy()\n",
    "\n",
    "x_train = TDG.loc[:, [\"store\", \"item\", \"datevalue\", \"weekday\", \"month\"]]\n",
    "y_train = TDG.loc[:, \"sales\"]\n",
    "\n",
    "x_test = TEG.loc[:, [\"store\", \"item\", \"datevalue\", \"weekday\", \"month\"]]\n",
    "y_test = TEG.loc[:, \"sales\"]"
   ]
  },
  {
   "cell_type": "code",
   "execution_count": 177,
   "metadata": {},
   "outputs": [],
   "source": [
    "#Cross-Validation\n",
    "#TDG[\"k\"] = np.random.choice(np.repeat(np.arange(5), len(TDG.index)/5), len(TDG.index), replace=False)\n",
    "\n",
    "#for k in range(0,5):\n",
    "#    x_train = TDG.loc[TDG[\"k\"] != k, [\"store\", \"item\", \"datevalue\", \"weekday\", \"month\"]]\n",
    "#    y_train = TDG.loc[TDG[\"k\"] != k, \"sales\"]\n",
    "\n",
    "n_est = [100, 200, 300]\n",
    "lr = [0.2, 0.1, 0.05]\n",
    "\n",
    "parameters = []\n",
    "train_error = []\n",
    "test_error = []\n",
    "\n",
    "for l in lr:\n",
    "    for n in n_est:\n",
    "        model = GradientBoostingRegressor(n_estimators = n,\n",
    "                                         learning_rate = l)\n",
    "        model.fit(x_train, y_train)\n",
    "\n",
    "        y_pred = model.predict(x_train)\n",
    "        test_pred = model.predict(x_test)\n",
    "\n",
    "        TDG[\"predicted\"] = y_pred\n",
    "        TEG[\"predicted\"] = test_pred\n",
    "\n",
    "        error_G, text_G = calculate_error(TDG[\"sales\"], TDG[\"predicted\"])\n",
    "        text_G + \" for the TRAIN Data\"\n",
    "\n",
    "        error_Te, text_Te = calculate_error(TEG[\"sales\"], TEG[\"predicted\"])\n",
    "        text_Te + \" for the TEST Data\"\n",
    "\n",
    "        train_error.append(error_G)\n",
    "        test_error.append(error_Te)\n",
    "        parameters.append([n_est, lr])\n",
    "    "
   ]
  },
  {
   "cell_type": "code",
   "execution_count": 204,
   "metadata": {},
   "outputs": [
    {
     "data": {
      "text/html": [
       "<div>\n",
       "<style scoped>\n",
       "    .dataframe tbody tr th:only-of-type {\n",
       "        vertical-align: middle;\n",
       "    }\n",
       "\n",
       "    .dataframe tbody tr th {\n",
       "        vertical-align: top;\n",
       "    }\n",
       "\n",
       "    .dataframe thead th {\n",
       "        text-align: right;\n",
       "    }\n",
       "</style>\n",
       "<table border=\"1\" class=\"dataframe\">\n",
       "  <thead>\n",
       "    <tr style=\"text-align: right;\">\n",
       "      <th></th>\n",
       "      <th>0</th>\n",
       "      <th>1</th>\n",
       "      <th>2</th>\n",
       "      <th>3</th>\n",
       "      <th>4</th>\n",
       "      <th>5</th>\n",
       "      <th>6</th>\n",
       "      <th>7</th>\n",
       "      <th>8</th>\n",
       "    </tr>\n",
       "  </thead>\n",
       "  <tbody>\n",
       "    <tr>\n",
       "      <th>0</th>\n",
       "      <td>19.919583</td>\n",
       "      <td>19.196163</td>\n",
       "      <td>18.578882</td>\n",
       "      <td>25.652053</td>\n",
       "      <td>20.127389</td>\n",
       "      <td>19.449322</td>\n",
       "      <td>32.201592</td>\n",
       "      <td>25.249212</td>\n",
       "      <td>21.308091</td>\n",
       "    </tr>\n",
       "    <tr>\n",
       "      <th>1</th>\n",
       "      <td>19.829647</td>\n",
       "      <td>17.945154</td>\n",
       "      <td>17.706175</td>\n",
       "      <td>26.803175</td>\n",
       "      <td>19.740467</td>\n",
       "      <td>18.215828</td>\n",
       "      <td>32.807685</td>\n",
       "      <td>26.194143</td>\n",
       "      <td>21.550625</td>\n",
       "    </tr>\n",
       "    <tr>\n",
       "      <th>2</th>\n",
       "      <td>100.000000</td>\n",
       "      <td>200.000000</td>\n",
       "      <td>300.000000</td>\n",
       "      <td>100.000000</td>\n",
       "      <td>200.000000</td>\n",
       "      <td>300.000000</td>\n",
       "      <td>100.000000</td>\n",
       "      <td>200.000000</td>\n",
       "      <td>300.000000</td>\n",
       "    </tr>\n",
       "    <tr>\n",
       "      <th>3</th>\n",
       "      <td>0.200000</td>\n",
       "      <td>0.200000</td>\n",
       "      <td>0.200000</td>\n",
       "      <td>0.100000</td>\n",
       "      <td>0.100000</td>\n",
       "      <td>0.100000</td>\n",
       "      <td>0.050000</td>\n",
       "      <td>0.050000</td>\n",
       "      <td>0.050000</td>\n",
       "    </tr>\n",
       "  </tbody>\n",
       "</table>\n",
       "</div>"
      ],
      "text/plain": [
       "            0           1           2           3           4           5  \\\n",
       "0   19.919583   19.196163   18.578882   25.652053   20.127389   19.449322   \n",
       "1   19.829647   17.945154   17.706175   26.803175   19.740467   18.215828   \n",
       "2  100.000000  200.000000  300.000000  100.000000  200.000000  300.000000   \n",
       "3    0.200000    0.200000    0.200000    0.100000    0.100000    0.100000   \n",
       "\n",
       "            6           7           8  \n",
       "0   32.201592   25.249212   21.308091  \n",
       "1   32.807685   26.194143   21.550625  \n",
       "2  100.000000  200.000000  300.000000  \n",
       "3    0.050000    0.050000    0.050000  "
      ]
     },
     "execution_count": 204,
     "metadata": {},
     "output_type": "execute_result"
    }
   ],
   "source": [
    "GBresutls = pd.DataFrame([train_error, test_error, list(np.tile([100,200,300], 3)), list(np.repeat([0.2, 0.1, 0.05], 3))])\n",
    "GBresutls"
   ]
  },
  {
   "cell_type": "code",
   "execution_count": 208,
   "metadata": {},
   "outputs": [],
   "source": [
    "model = GradientBoostingRegressor(n_estimators = 300,\n",
    "                                 learning_rate = 0.2)\n",
    "model.fit(x_train, y_train)\n",
    "\n",
    "y_pred = model.predict(x_train)\n",
    "test_pred = model.predict(x_test)\n",
    "\n",
    "TDG[\"predicted\"] = y_pred\n",
    "TEG[\"predicted\"] = test_pred"
   ]
  },
  {
   "cell_type": "code",
   "execution_count": 212,
   "metadata": {},
   "outputs": [
    {
     "data": {
      "text/plain": [
       "'The SMAPE error percentage is 18.58% for the TRAIN Data'"
      ]
     },
     "execution_count": 212,
     "metadata": {},
     "output_type": "execute_result"
    }
   ],
   "source": [
    "error_G, text_G = calculate_error(TDG[\"sales\"], TDG[\"predicted\"])\n",
    "text_G + \" for the TRAIN Data\""
   ]
  },
  {
   "cell_type": "code",
   "execution_count": 213,
   "metadata": {},
   "outputs": [
    {
     "data": {
      "text/plain": [
       "'The SMAPE error percentage is 17.71% for the TEST Data'"
      ]
     },
     "execution_count": 213,
     "metadata": {},
     "output_type": "execute_result"
    }
   ],
   "source": [
    "error_Te, text_Te = calculate_error(TEG[\"sales\"], TEG[\"predicted\"])\n",
    "text_Te + \" for the TEST Data\""
   ]
  },
  {
   "cell_type": "code",
   "execution_count": 210,
   "metadata": {},
   "outputs": [
    {
     "data": {
      "text/plain": [
       "<matplotlib.axes._subplots.AxesSubplot at 0x1d58609db70>"
      ]
     },
     "execution_count": 210,
     "metadata": {},
     "output_type": "execute_result"
    },
    {
     "data": {
      "image/png": "[encoded data removed]",
      "text/plain": [
       "<Figure size 432x288 with 1 Axes>"
      ]
     },
     "metadata": {},
     "output_type": "display_data"
    }
   ],
   "source": [
    "TDG[(TDG[\"item\"] == 1) & (TDG[\"store\"] == 1)].predicted.plot(marker=\"o\", markersize = 5)\n",
    "TDG[(TDG[\"item\"] == 1) & (TDG[\"store\"] == 1)].sales.plot(marker=\"o\", color = \"r\", linewidth = 0.5, markersize = 2)"
   ]
  },
  {
   "cell_type": "code",
   "execution_count": 211,
   "metadata": {},
   "outputs": [
    {
     "data": {
      "text/plain": [
       "<matplotlib.axes._subplots.AxesSubplot at 0x1d5a4cb0748>"
      ]
     },
     "execution_count": 211,
     "metadata": {},
     "output_type": "execute_result"
    },
    {
     "data": {
      "image/png": "[encoded data removed]",
      "text/plain": [
       "<Figure size 432x288 with 1 Axes>"
      ]
     },
     "metadata": {},
     "output_type": "display_data"
    }
   ],
   "source": [
    "TEG[(TEG[\"item\"] == 1) & (TEG[\"store\"] == 1)].predicted.plot(marker=\"o\", markersize = 5)\n",
    "TEG[(TEG[\"item\"] == 1) & (TEG[\"store\"] == 1)].sales.plot(marker=\"o\", color = \"r\", linewidth = 0.5, markersize = 2)"
   ]
  },
  {
   "cell_type": "markdown",
   "metadata": {},
   "source": [
    "# Conclusions of the study\n",
    "\n",
    "Linear regression of the overall data achieves similar results as the Gradient Boosting Regressor, around 18% test error. Applying regression to each individual case will show better accuracy for some item/store pairs, and reduced accuracy for other cases, the problem is that is does not take correlations of itens into account.\n",
    "\n",
    "Since we are trying to predict store sales, which can be something extremely subjective, and there are several variables missing like weather, city, etc; one can expect a 18% accuracy to be reasonable in praxis.\n",
    "\n",
    "Nonetheless, I would suggest trying other models that take correlations into account or apply a Bayesian Linear Regression with a hyperprior distribution."
   ]
  }
 ],
 "metadata": {
  "kernelspec": {
   "display_name": "Python 3",
   "language": "python",
   "name": "python3"
  },
  "language_info": {
   "codemirror_mode": {
    "name": "ipython",
    "version": 3
   },
   "file_extension": ".py",
   "mimetype": "text/x-python",
   "name": "python",
   "nbconvert_exporter": "python",
   "pygments_lexer": "ipython3",
   "version": "3.6.5"
  }
 },
 "nbformat": 4,
 "nbformat_minor": 2
}
